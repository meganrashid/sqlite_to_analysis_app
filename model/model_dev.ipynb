{
 "cells": [
  {
   "cell_type": "markdown",
   "metadata": {},
   "source": [
    "# Model Development"
   ]
  },
  {
   "cell_type": "code",
   "execution_count": null,
   "metadata": {},
   "outputs": [],
   "source": [
    "import pandas as pd\n",
    "import os\n",
    "\n",
    "\n",
    "from sklearn.preprocessing import LabelEncoder\n",
    "from sklearn.feature_extraction.text import TfidfVectorizer\n",
    "\n",
    "from sklearn.model_selection import train_test_split\n",
    "from sklearn.feature_extraction.text import CountVectorizer\n",
    "from sklearn.feature_extraction.text import TfidfTransformer\n",
    "from sklearn.naive_bayes import MultinomialNB"
   ]
  },
  {
   "cell_type": "code",
   "execution_count": null,
   "metadata": {},
   "outputs": [],
   "source": [
    "# read data back in from pickle file created with eda.ipynb\n",
    "\n",
    "# Dynamically get the current working directory\n",
    "current_dir = os.getcwd()\n",
    "text_path = os.path.abspath(os.path.join(current_dir, '..', 'output','combined_data.pkl'))\n",
    "\n",
    "# read data back in \n",
    "df_clean = pd.read_pickle(text_path)"
   ]
  },
  {
   "cell_type": "code",
   "execution_count": null,
   "metadata": {},
   "outputs": [],
   "source": [
    "from sklearn.model_selection import train_test_split, cross_val_score\n",
    "from sklearn.feature_extraction.text import TfidfVectorizer\n",
    "from sklearn.preprocessing import LabelEncoder\n",
    "from sklearn.naive_bayes import MultinomialNB\n",
    "from sklearn.linear_model import LogisticRegression\n",
    "from sklearn.svm import SVC\n",
    "from sklearn.tree import DecisionTreeClassifier\n",
    "from sklearn.ensemble import RandomForestClassifier# Combine the list of words in 'clean_text' back into a string for TF-IDF\n",
    "\n",
    "df_clean['clean_text_str'] = df_clean['clean_text'].apply(lambda x: ' '.join(x))\n",
    "\n",
    "#Turning the labels into numbers\n",
    "label_encoder = LabelEncoder()\n",
    "df_clean['Category_Num'] = label_encoder.fit_transform(df_clean['Category'])\n",
    "print(df_clean['Category'].unique())\n",
    "print(df_clean['Category_Num'].unique())\n",
    "\n",
    "# Split the data into features (X) and labels (y)\n",
    "X = df_clean['clean_text_str']\n",
    "y = df_clean['Category_Num']\n",
    "\n",
    "print (X.shape)\n",
    "print(y.shape)\n",
    "\n",
    "# Train-Test Split\n",
    "X_train, X_test, y_train, y_test = train_test_split(X, y, test_size=0.25, random_state=42)\n",
    "\n",
    "# Fit TF-IDF on the training data\n",
    "tfidf = TfidfVectorizer(max_features=100, stop_words='english')\n",
    "X_train_tfidf = tfidf.fit_transform(X_train)\n",
    "X_test_tfidf = tfidf.transform(X_test)\n"
   ]
  },
  {
   "cell_type": "code",
   "execution_count": null,
   "metadata": {},
   "outputs": [],
   "source": [
    "# Define multiple models to test\n",
    "models = {\n",
    "    'Naive Bayes': MultinomialNB(),\n",
    "    'Support Vector Classifier': SVC(),\n",
    "    'Decision Tree': DecisionTreeClassifier(),\n",
    "    'Random Forest': RandomForestClassifier(n_estimators=100)\n",
    "}\n",
    "\n",
    "\n",
    "# Evaluate each model\n",
    "for model_name, model in models.items():\n",
    "    model.fit(X_train_tfidf, y_train)\n",
    "    y_pred = model.predict(X_test_tfidf)\n",
    "    \n",
    "    print(f\"\\n=== {model_name} ===\")\n",
    "    print(classification_report(y_test, y_pred, target_names=label_encoder.classes_))\n",
    "\n",
    "# Cross-validate the models\n",
    "for model_name, model in models.items():\n",
    "    scores = cross_val_score(model, X_train_tfidf, y_train, cv=5, scoring='accuracy')\n",
    "    print(f\"{model_name} Cross-Validation Accuracy: {scores.mean():.4f}\")\n"
   ]
  },
  {
   "cell_type": "code",
   "execution_count": null,
   "metadata": {},
   "outputs": [],
   "source": [
    "\n",
    "\n",
    "# X_train, X_test, y_train, y_test = train_test_split(subjects['question_text'], subjects['actual_subject'], \n",
    "#                                                     random_state = 0)\n",
    "\n",
    "# count_vect = CountVectorizer()\n",
    "# X_train_counts = count_vect.fit_transform(X_train)\n",
    "\n",
    "# tfidf_transformer = TfidfTransformer()\n",
    "# X_train_tfidf = tfidf_transformer.fit_transform(X_train_counts)\n",
    "\n",
    "# clf = MultinomialNB().fit(X_train_tfidf, y_train)"
   ]
  }
 ],
 "metadata": {
  "kernelspec": {
   "display_name": "base",
   "language": "python",
   "name": "python3"
  },
  "language_info": {
   "name": "python",
   "version": "3.8.8"
  }
 },
 "nbformat": 4,
 "nbformat_minor": 2
}
