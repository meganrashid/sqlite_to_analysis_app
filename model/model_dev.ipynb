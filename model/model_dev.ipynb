{
 "cells": [
  {
   "cell_type": "markdown",
   "metadata": {},
   "source": [
    "# Multiclass Text Classification Development\n",
    "\n",
    "Purpose:\n",
    "This model predicts a Company's business category based on the text of their homepage website. \n",
    "\n",
    "Hypothesis: \n",
    "The implicit hypothesis is that websites within each category will use distinctive language that can be used to classify them.\n",
    "\n",
    "Overall process:\n",
    "1. Normalize Text (done during eda.ipynb to complete EDA)\n",
    "2. Label Encoding\n",
    "3. Feature Extraction (TFIDF & BERT)\n",
    "4. Model Training\n",
    "5. Evaulate best performing model and vectorization method"
   ]
  },
  {
   "cell_type": "code",
   "execution_count": 3,
   "metadata": {},
   "outputs": [],
   "source": [
    "import pandas as pd\n",
    "import os \n",
    "import numpy as np\n",
    "\n",
    "from sklearn.model_selection import train_test_split, cross_val_score, KFold\n",
    "from sklearn.feature_extraction.text import TfidfVectorizer\n",
    "from sklearn.preprocessing import LabelEncoder\n",
    "\n",
    "from sklearn.naive_bayes import MultinomialNB\n",
    "from sklearn.linear_model import LogisticRegression\n",
    "from sklearn.linear_model import SGDClassifier\n",
    "from sklearn.ensemble import RandomForestClassifier\n",
    "\n",
    "from sklearn.metrics import classification_report, accuracy_score\n",
    "from sklearn.pipeline import Pipeline\n",
    "\n",
    "# from transformers import BertTokenizer, BertModel\n",
    "from transformers import DistilBertTokenizer, DistilBertModel #smaller and faster than BERT\n",
    "import torch\n",
    "\n",
    "from sklearn.base import TransformerMixin, BaseEstimator"
   ]
  },
  {
   "cell_type": "markdown",
   "metadata": {},
   "source": [
    "# read in data"
   ]
  },
  {
   "cell_type": "code",
   "execution_count": 4,
   "metadata": {},
   "outputs": [
    {
     "data": {
      "text/html": [
       "<div>\n",
       "<style scoped>\n",
       "    .dataframe tbody tr th:only-of-type {\n",
       "        vertical-align: middle;\n",
       "    }\n",
       "\n",
       "    .dataframe tbody tr th {\n",
       "        vertical-align: top;\n",
       "    }\n",
       "\n",
       "    .dataframe thead th {\n",
       "        text-align: right;\n",
       "    }\n",
       "</style>\n",
       "<table border=\"1\" class=\"dataframe\">\n",
       "  <thead>\n",
       "    <tr style=\"text-align: right;\">\n",
       "      <th></th>\n",
       "      <th>Company_ID</th>\n",
       "      <th>CompanyName</th>\n",
       "      <th>Website</th>\n",
       "      <th>Industry</th>\n",
       "      <th>Size_Range</th>\n",
       "      <th>Locality</th>\n",
       "      <th>Country</th>\n",
       "      <th>Current_Employee_Estimate</th>\n",
       "      <th>Total_Employee_Estimate</th>\n",
       "      <th>Category</th>\n",
       "      <th>...</th>\n",
       "      <th>h3</th>\n",
       "      <th>nav_link_text</th>\n",
       "      <th>meta_keywords</th>\n",
       "      <th>meta_description</th>\n",
       "      <th>len_homepage_text</th>\n",
       "      <th>Full_Text</th>\n",
       "      <th>len_Full_Text</th>\n",
       "      <th>clean_text</th>\n",
       "      <th>len_clean_text</th>\n",
       "      <th>clean_text_str</th>\n",
       "    </tr>\n",
       "  </thead>\n",
       "  <tbody>\n",
       "    <tr>\n",
       "      <th>0</th>\n",
       "      <td>99</td>\n",
       "      <td>crinan hotel</td>\n",
       "      <td>crinanhotel.com</td>\n",
       "      <td>hospitality</td>\n",
       "      <td>1 - 10</td>\n",
       "      <td>ardchonell, argyll and bute, united kingdom</td>\n",
       "      <td>united kingdom</td>\n",
       "      <td>1</td>\n",
       "      <td>3</td>\n",
       "      <td>Corporate Services</td>\n",
       "      <td>...</td>\n",
       "      <td>Accommodation#sep#Activities#sep#Experience Cr...</td>\n",
       "      <td>None</td>\n",
       "      <td>Crinan hotel, country house hotel, boutique ho...</td>\n",
       "      <td>Crinan Hotel - on waterfront overlooking Loch ...</td>\n",
       "      <td>3467</td>\n",
       "      <td>01546 830261  Crinan · by Lochgilp...</td>\n",
       "      <td>3665</td>\n",
       "      <td>[crinan, lochgilphead, pa, sr, hotel, history,...</td>\n",
       "      <td>2012</td>\n",
       "      <td>crinan lochgilphead pa sr hotel history ryan f...</td>\n",
       "    </tr>\n",
       "    <tr>\n",
       "      <th>1</th>\n",
       "      <td>222</td>\n",
       "      <td>spot on productions, llc</td>\n",
       "      <td>spotonproductionsllc.com</td>\n",
       "      <td>entertainment</td>\n",
       "      <td>1 - 10</td>\n",
       "      <td>jackson, mississippi, united states</td>\n",
       "      <td>united states</td>\n",
       "      <td>2</td>\n",
       "      <td>3</td>\n",
       "      <td>Media, Marketing &amp; Sales</td>\n",
       "      <td>...</td>\n",
       "      <td>None</td>\n",
       "      <td>None</td>\n",
       "      <td>None</td>\n",
       "      <td>We're Philip Scarborough and Tom Beck, the for...</td>\n",
       "      <td>45</td>\n",
       "      <td>...</td>\n",
       "      <td>75</td>\n",
       "      <td>[reels, work, storytelling, brought, life, phi...</td>\n",
       "      <td>38</td>\n",
       "      <td>reels work storytelling brought life philip sc...</td>\n",
       "    </tr>\n",
       "    <tr>\n",
       "      <th>2</th>\n",
       "      <td>535</td>\n",
       "      <td>akhand jyoti eye hospital</td>\n",
       "      <td>akhandjyoti.in</td>\n",
       "      <td>hospital &amp; health care</td>\n",
       "      <td>11 - 50</td>\n",
       "      <td>saran, bihar, india</td>\n",
       "      <td>india</td>\n",
       "      <td>8</td>\n",
       "      <td>11</td>\n",
       "      <td>Healthcare</td>\n",
       "      <td>...</td>\n",
       "      <td>Our Girls Help#sep#Donate In Specific Programs...</td>\n",
       "      <td>why blindness,women empowerment,our impact,abo...</td>\n",
       "      <td>Akhand Jyoti - the largest eye hospital in eas...</td>\n",
       "      <td>Akhandjyoti, akhand jyoti eye hospital, non-pr...</td>\n",
       "      <td>909</td>\n",
       "      <td>Donate ...</td>\n",
       "      <td>1015</td>\n",
       "      <td>[donate, gift, someone, sight, support, girl, ...</td>\n",
       "      <td>628</td>\n",
       "      <td>donate gift someone sight support girl child b...</td>\n",
       "    </tr>\n",
       "    <tr>\n",
       "      <th>3</th>\n",
       "      <td>642</td>\n",
       "      <td>lasercare eye center</td>\n",
       "      <td>dfweyes.com</td>\n",
       "      <td>medical practice</td>\n",
       "      <td>1 - 10</td>\n",
       "      <td>irving, texas, united states</td>\n",
       "      <td>united states</td>\n",
       "      <td>4</td>\n",
       "      <td>11</td>\n",
       "      <td>Healthcare</td>\n",
       "      <td>...</td>\n",
       "      <td>None</td>\n",
       "      <td>home,why choose us,new patient information,pat...</td>\n",
       "      <td>None</td>\n",
       "      <td>Call 214.574.9600 TODAY for an appointment! Th...</td>\n",
       "      <td>1633</td>\n",
       "      <td>...</td>\n",
       "      <td>1820</td>\n",
       "      <td>[lasik, hotline, main, number, toll, free, irv...</td>\n",
       "      <td>1210</td>\n",
       "      <td>lasik hotline main number toll free irving tx ...</td>\n",
       "    </tr>\n",
       "    <tr>\n",
       "      <th>4</th>\n",
       "      <td>675</td>\n",
       "      <td>compumachine inc</td>\n",
       "      <td>compumachine.com</td>\n",
       "      <td>machinery</td>\n",
       "      <td>1 - 10</td>\n",
       "      <td>danvers, massachusetts, united states</td>\n",
       "      <td>united states</td>\n",
       "      <td>4</td>\n",
       "      <td>9</td>\n",
       "      <td>Industrials</td>\n",
       "      <td>...</td>\n",
       "      <td>None</td>\n",
       "      <td>home,machines,automation,mastercam,services,ab...</td>\n",
       "      <td>None</td>\n",
       "      <td>Compumachine is proud to offer CNC Machine Too...</td>\n",
       "      <td>192</td>\n",
       "      <td>MACHINES &amp; AUTOMATION HOME MACHINE...</td>\n",
       "      <td>228</td>\n",
       "      <td>[machines, automation, machines, automation, m...</td>\n",
       "      <td>170</td>\n",
       "      <td>machines automation machines automation master...</td>\n",
       "    </tr>\n",
       "  </tbody>\n",
       "</table>\n",
       "<p>5 rows × 23 columns</p>\n",
       "</div>"
      ],
      "text/plain": [
       "   Company_ID                CompanyName                   Website  \\\n",
       "0          99               crinan hotel           crinanhotel.com   \n",
       "1         222   spot on productions, llc  spotonproductionsllc.com   \n",
       "2         535  akhand jyoti eye hospital            akhandjyoti.in   \n",
       "3         642       lasercare eye center               dfweyes.com   \n",
       "4         675           compumachine inc          compumachine.com   \n",
       "\n",
       "                 Industry Size_Range  \\\n",
       "0             hospitality     1 - 10   \n",
       "1           entertainment     1 - 10   \n",
       "2  hospital & health care    11 - 50   \n",
       "3        medical practice     1 - 10   \n",
       "4               machinery     1 - 10   \n",
       "\n",
       "                                      Locality         Country  \\\n",
       "0  ardchonell, argyll and bute, united kingdom  united kingdom   \n",
       "1          jackson, mississippi, united states   united states   \n",
       "2                          saran, bihar, india           india   \n",
       "3                 irving, texas, united states   united states   \n",
       "4        danvers, massachusetts, united states   united states   \n",
       "\n",
       "   Current_Employee_Estimate  Total_Employee_Estimate  \\\n",
       "0                          1                        3   \n",
       "1                          2                        3   \n",
       "2                          8                       11   \n",
       "3                          4                       11   \n",
       "4                          4                        9   \n",
       "\n",
       "                   Category  ...  \\\n",
       "0        Corporate Services  ...   \n",
       "1  Media, Marketing & Sales  ...   \n",
       "2                Healthcare  ...   \n",
       "3                Healthcare  ...   \n",
       "4               Industrials  ...   \n",
       "\n",
       "                                                  h3  \\\n",
       "0  Accommodation#sep#Activities#sep#Experience Cr...   \n",
       "1                                               None   \n",
       "2  Our Girls Help#sep#Donate In Specific Programs...   \n",
       "3                                               None   \n",
       "4                                               None   \n",
       "\n",
       "                                       nav_link_text  \\\n",
       "0                                               None   \n",
       "1                                               None   \n",
       "2  why blindness,women empowerment,our impact,abo...   \n",
       "3  home,why choose us,new patient information,pat...   \n",
       "4  home,machines,automation,mastercam,services,ab...   \n",
       "\n",
       "                                       meta_keywords  \\\n",
       "0  Crinan hotel, country house hotel, boutique ho...   \n",
       "1                                               None   \n",
       "2  Akhand Jyoti - the largest eye hospital in eas...   \n",
       "3                                               None   \n",
       "4                                               None   \n",
       "\n",
       "                                    meta_description len_homepage_text  \\\n",
       "0  Crinan Hotel - on waterfront overlooking Loch ...              3467   \n",
       "1  We're Philip Scarborough and Tom Beck, the for...                45   \n",
       "2  Akhandjyoti, akhand jyoti eye hospital, non-pr...               909   \n",
       "3  Call 214.574.9600 TODAY for an appointment! Th...              1633   \n",
       "4  Compumachine is proud to offer CNC Machine Too...               192   \n",
       "\n",
       "                                           Full_Text len_Full_Text  \\\n",
       "0              01546 830261  Crinan · by Lochgilp...          3665   \n",
       "1                                                ...            75   \n",
       "2                                         Donate ...          1015   \n",
       "3                                                ...          1820   \n",
       "4              MACHINES & AUTOMATION HOME MACHINE...           228   \n",
       "\n",
       "                                          clean_text len_clean_text  \\\n",
       "0  [crinan, lochgilphead, pa, sr, hotel, history,...           2012   \n",
       "1  [reels, work, storytelling, brought, life, phi...             38   \n",
       "2  [donate, gift, someone, sight, support, girl, ...            628   \n",
       "3  [lasik, hotline, main, number, toll, free, irv...           1210   \n",
       "4  [machines, automation, machines, automation, m...            170   \n",
       "\n",
       "                                      clean_text_str  \n",
       "0  crinan lochgilphead pa sr hotel history ryan f...  \n",
       "1  reels work storytelling brought life philip sc...  \n",
       "2  donate gift someone sight support girl child b...  \n",
       "3  lasik hotline main number toll free irving tx ...  \n",
       "4  machines automation machines automation master...  \n",
       "\n",
       "[5 rows x 23 columns]"
      ]
     },
     "execution_count": 4,
     "metadata": {},
     "output_type": "execute_result"
    }
   ],
   "source": [
    "# read data back in from pickle file created with eda.ipynb\n",
    "\n",
    "# Dynamically get the current working directory\n",
    "current_dir = os.getcwd()\n",
    "text_path = os.path.abspath(os.path.join(current_dir, '..', 'output','combined_data.pkl'))\n",
    "\n",
    "# read data back in \n",
    "df_clean = pd.read_pickle(text_path)\n",
    "df_clean.head()"
   ]
  },
  {
   "cell_type": "markdown",
   "metadata": {},
   "source": [
    "# Trim the Dataset\n",
    "\n",
    "There are about 71k rows in this dataset. Because I am training the on my local machine, I have decided to take a random sample for training. \n",
    "\n",
    "The limitation of this is that I could miss out on key information but it's my best option since I am not using a GPU. \n",
    "\n",
    "As the dataset has a decent mix of categories, a random dataset should maintain the same distribution. However, the industries represented\n",
    "within each category might change. \n"
   ]
  },
  {
   "cell_type": "code",
   "execution_count": 5,
   "metadata": {},
   "outputs": [],
   "source": [
    "# Get a random sample of 5k rows\n",
    "df_sample = df_clean.sample(n=5000)"
   ]
  },
  {
   "cell_type": "code",
   "execution_count": 139,
   "metadata": {},
   "outputs": [],
   "source": [
    "# pickle out results for using later in precomputed embeddings\n",
    "text_path2 = os.path.abspath(os.path.join(current_dir, '..', 'output','sample_data.pkl'))\n",
    "df_sample.to_pickle(text_path2)"
   ]
  },
  {
   "cell_type": "code",
   "execution_count": 6,
   "metadata": {},
   "outputs": [
    {
     "data": {
      "application/vnd.plotly.v1+json": {
       "config": {
        "plotlyServerURL": "https://plot.ly"
       },
       "data": [
        {
         "alignmentgroup": "True",
         "hovertemplate": "Category=%{x}<br>Website=%{y}<extra></extra>",
         "legendgroup": "Commercial Services & Supplies",
         "marker": {
          "color": "#636efa",
          "pattern": {
           "shape": ""
          }
         },
         "name": "Commercial Services & Supplies",
         "offsetgroup": "Commercial Services & Supplies",
         "orientation": "v",
         "showlegend": true,
         "textposition": "auto",
         "type": "bar",
         "x": [
          "Commercial Services & Supplies"
         ],
         "xaxis": "x",
         "y": [
          428
         ],
         "yaxis": "y"
        },
        {
         "alignmentgroup": "True",
         "hovertemplate": "Category=%{x}<br>Website=%{y}<extra></extra>",
         "legendgroup": "Consumer Discretionary",
         "marker": {
          "color": "#EF553B",
          "pattern": {
           "shape": ""
          }
         },
         "name": "Consumer Discretionary",
         "offsetgroup": "Consumer Discretionary",
         "orientation": "v",
         "showlegend": true,
         "textposition": "auto",
         "type": "bar",
         "x": [
          "Consumer Discretionary"
         ],
         "xaxis": "x",
         "y": [
          221
         ],
         "yaxis": "y"
        },
        {
         "alignmentgroup": "True",
         "hovertemplate": "Category=%{x}<br>Website=%{y}<extra></extra>",
         "legendgroup": "Consumer Staples",
         "marker": {
          "color": "#00cc96",
          "pattern": {
           "shape": ""
          }
         },
         "name": "Consumer Staples",
         "offsetgroup": "Consumer Staples",
         "orientation": "v",
         "showlegend": true,
         "textposition": "auto",
         "type": "bar",
         "x": [
          "Consumer Staples"
         ],
         "xaxis": "x",
         "y": [
          372
         ],
         "yaxis": "y"
        },
        {
         "alignmentgroup": "True",
         "hovertemplate": "Category=%{x}<br>Website=%{y}<extra></extra>",
         "legendgroup": "Corporate Services",
         "marker": {
          "color": "#ab63fa",
          "pattern": {
           "shape": ""
          }
         },
         "name": "Corporate Services",
         "offsetgroup": "Corporate Services",
         "orientation": "v",
         "showlegend": true,
         "textposition": "auto",
         "type": "bar",
         "x": [
          "Corporate Services"
         ],
         "xaxis": "x",
         "y": [
          467
         ],
         "yaxis": "y"
        },
        {
         "alignmentgroup": "True",
         "hovertemplate": "Category=%{x}<br>Website=%{y}<extra></extra>",
         "legendgroup": "Energy & Utilities",
         "marker": {
          "color": "#FFA15A",
          "pattern": {
           "shape": ""
          }
         },
         "name": "Energy & Utilities",
         "offsetgroup": "Energy & Utilities",
         "orientation": "v",
         "showlegend": true,
         "textposition": "auto",
         "type": "bar",
         "x": [
          "Energy & Utilities"
         ],
         "xaxis": "x",
         "y": [
          417
         ],
         "yaxis": "y"
        },
        {
         "alignmentgroup": "True",
         "hovertemplate": "Category=%{x}<br>Website=%{y}<extra></extra>",
         "legendgroup": "Financials",
         "marker": {
          "color": "#19d3f3",
          "pattern": {
           "shape": ""
          }
         },
         "name": "Financials",
         "offsetgroup": "Financials",
         "orientation": "v",
         "showlegend": true,
         "textposition": "auto",
         "type": "bar",
         "x": [
          "Financials"
         ],
         "xaxis": "x",
         "y": [
          456
         ],
         "yaxis": "y"
        },
        {
         "alignmentgroup": "True",
         "hovertemplate": "Category=%{x}<br>Website=%{y}<extra></extra>",
         "legendgroup": "Healthcare",
         "marker": {
          "color": "#FF6692",
          "pattern": {
           "shape": ""
          }
         },
         "name": "Healthcare",
         "offsetgroup": "Healthcare",
         "orientation": "v",
         "showlegend": true,
         "textposition": "auto",
         "type": "bar",
         "x": [
          "Healthcare"
         ],
         "xaxis": "x",
         "y": [
          485
         ],
         "yaxis": "y"
        },
        {
         "alignmentgroup": "True",
         "hovertemplate": "Category=%{x}<br>Website=%{y}<extra></extra>",
         "legendgroup": "Industrials",
         "marker": {
          "color": "#B6E880",
          "pattern": {
           "shape": ""
          }
         },
         "name": "Industrials",
         "offsetgroup": "Industrials",
         "orientation": "v",
         "showlegend": true,
         "textposition": "auto",
         "type": "bar",
         "x": [
          "Industrials"
         ],
         "xaxis": "x",
         "y": [
          234
         ],
         "yaxis": "y"
        },
        {
         "alignmentgroup": "True",
         "hovertemplate": "Category=%{x}<br>Website=%{y}<extra></extra>",
         "legendgroup": "Information Technology",
         "marker": {
          "color": "#FF97FF",
          "pattern": {
           "shape": ""
          }
         },
         "name": "Information Technology",
         "offsetgroup": "Information Technology",
         "orientation": "v",
         "showlegend": true,
         "textposition": "auto",
         "type": "bar",
         "x": [
          "Information Technology"
         ],
         "xaxis": "x",
         "y": [
          418
         ],
         "yaxis": "y"
        },
        {
         "alignmentgroup": "True",
         "hovertemplate": "Category=%{x}<br>Website=%{y}<extra></extra>",
         "legendgroup": "Materials",
         "marker": {
          "color": "#FECB52",
          "pattern": {
           "shape": ""
          }
         },
         "name": "Materials",
         "offsetgroup": "Materials",
         "orientation": "v",
         "showlegend": true,
         "textposition": "auto",
         "type": "bar",
         "x": [
          "Materials"
         ],
         "xaxis": "x",
         "y": [
          197
         ],
         "yaxis": "y"
        },
        {
         "alignmentgroup": "True",
         "hovertemplate": "Category=%{x}<br>Website=%{y}<extra></extra>",
         "legendgroup": "Media, Marketing & Sales",
         "marker": {
          "color": "#636efa",
          "pattern": {
           "shape": ""
          }
         },
         "name": "Media, Marketing & Sales",
         "offsetgroup": "Media, Marketing & Sales",
         "orientation": "v",
         "showlegend": true,
         "textposition": "auto",
         "type": "bar",
         "x": [
          "Media, Marketing & Sales"
         ],
         "xaxis": "x",
         "y": [
          415
         ],
         "yaxis": "y"
        },
        {
         "alignmentgroup": "True",
         "hovertemplate": "Category=%{x}<br>Website=%{y}<extra></extra>",
         "legendgroup": "Professional Services",
         "marker": {
          "color": "#EF553B",
          "pattern": {
           "shape": ""
          }
         },
         "name": "Professional Services",
         "offsetgroup": "Professional Services",
         "orientation": "v",
         "showlegend": true,
         "textposition": "auto",
         "type": "bar",
         "x": [
          "Professional Services"
         ],
         "xaxis": "x",
         "y": [
          490
         ],
         "yaxis": "y"
        },
        {
         "alignmentgroup": "True",
         "hovertemplate": "Category=%{x}<br>Website=%{y}<extra></extra>",
         "legendgroup": "Transportation & Logistics",
         "marker": {
          "color": "#00cc96",
          "pattern": {
           "shape": ""
          }
         },
         "name": "Transportation & Logistics",
         "offsetgroup": "Transportation & Logistics",
         "orientation": "v",
         "showlegend": true,
         "textposition": "auto",
         "type": "bar",
         "x": [
          "Transportation & Logistics"
         ],
         "xaxis": "x",
         "y": [
          400
         ],
         "yaxis": "y"
        }
       ],
       "layout": {
        "barmode": "group",
        "legend": {
         "title": {
          "text": "Category"
         },
         "tracegroupgap": 0
        },
        "template": {
         "data": {
          "bar": [
           {
            "error_x": {
             "color": "#2a3f5f"
            },
            "error_y": {
             "color": "#2a3f5f"
            },
            "marker": {
             "line": {
              "color": "#E5ECF6",
              "width": 0.5
             },
             "pattern": {
              "fillmode": "overlay",
              "size": 10,
              "solidity": 0.2
             }
            },
            "type": "bar"
           }
          ],
          "barpolar": [
           {
            "marker": {
             "line": {
              "color": "#E5ECF6",
              "width": 0.5
             },
             "pattern": {
              "fillmode": "overlay",
              "size": 10,
              "solidity": 0.2
             }
            },
            "type": "barpolar"
           }
          ],
          "carpet": [
           {
            "aaxis": {
             "endlinecolor": "#2a3f5f",
             "gridcolor": "white",
             "linecolor": "white",
             "minorgridcolor": "white",
             "startlinecolor": "#2a3f5f"
            },
            "baxis": {
             "endlinecolor": "#2a3f5f",
             "gridcolor": "white",
             "linecolor": "white",
             "minorgridcolor": "white",
             "startlinecolor": "#2a3f5f"
            },
            "type": "carpet"
           }
          ],
          "choropleth": [
           {
            "colorbar": {
             "outlinewidth": 0,
             "ticks": ""
            },
            "type": "choropleth"
           }
          ],
          "contour": [
           {
            "colorbar": {
             "outlinewidth": 0,
             "ticks": ""
            },
            "colorscale": [
             [
              0,
              "#0d0887"
             ],
             [
              0.1111111111111111,
              "#46039f"
             ],
             [
              0.2222222222222222,
              "#7201a8"
             ],
             [
              0.3333333333333333,
              "#9c179e"
             ],
             [
              0.4444444444444444,
              "#bd3786"
             ],
             [
              0.5555555555555556,
              "#d8576b"
             ],
             [
              0.6666666666666666,
              "#ed7953"
             ],
             [
              0.7777777777777778,
              "#fb9f3a"
             ],
             [
              0.8888888888888888,
              "#fdca26"
             ],
             [
              1,
              "#f0f921"
             ]
            ],
            "type": "contour"
           }
          ],
          "contourcarpet": [
           {
            "colorbar": {
             "outlinewidth": 0,
             "ticks": ""
            },
            "type": "contourcarpet"
           }
          ],
          "heatmap": [
           {
            "colorbar": {
             "outlinewidth": 0,
             "ticks": ""
            },
            "colorscale": [
             [
              0,
              "#0d0887"
             ],
             [
              0.1111111111111111,
              "#46039f"
             ],
             [
              0.2222222222222222,
              "#7201a8"
             ],
             [
              0.3333333333333333,
              "#9c179e"
             ],
             [
              0.4444444444444444,
              "#bd3786"
             ],
             [
              0.5555555555555556,
              "#d8576b"
             ],
             [
              0.6666666666666666,
              "#ed7953"
             ],
             [
              0.7777777777777778,
              "#fb9f3a"
             ],
             [
              0.8888888888888888,
              "#fdca26"
             ],
             [
              1,
              "#f0f921"
             ]
            ],
            "type": "heatmap"
           }
          ],
          "heatmapgl": [
           {
            "colorbar": {
             "outlinewidth": 0,
             "ticks": ""
            },
            "colorscale": [
             [
              0,
              "#0d0887"
             ],
             [
              0.1111111111111111,
              "#46039f"
             ],
             [
              0.2222222222222222,
              "#7201a8"
             ],
             [
              0.3333333333333333,
              "#9c179e"
             ],
             [
              0.4444444444444444,
              "#bd3786"
             ],
             [
              0.5555555555555556,
              "#d8576b"
             ],
             [
              0.6666666666666666,
              "#ed7953"
             ],
             [
              0.7777777777777778,
              "#fb9f3a"
             ],
             [
              0.8888888888888888,
              "#fdca26"
             ],
             [
              1,
              "#f0f921"
             ]
            ],
            "type": "heatmapgl"
           }
          ],
          "histogram": [
           {
            "marker": {
             "pattern": {
              "fillmode": "overlay",
              "size": 10,
              "solidity": 0.2
             }
            },
            "type": "histogram"
           }
          ],
          "histogram2d": [
           {
            "colorbar": {
             "outlinewidth": 0,
             "ticks": ""
            },
            "colorscale": [
             [
              0,
              "#0d0887"
             ],
             [
              0.1111111111111111,
              "#46039f"
             ],
             [
              0.2222222222222222,
              "#7201a8"
             ],
             [
              0.3333333333333333,
              "#9c179e"
             ],
             [
              0.4444444444444444,
              "#bd3786"
             ],
             [
              0.5555555555555556,
              "#d8576b"
             ],
             [
              0.6666666666666666,
              "#ed7953"
             ],
             [
              0.7777777777777778,
              "#fb9f3a"
             ],
             [
              0.8888888888888888,
              "#fdca26"
             ],
             [
              1,
              "#f0f921"
             ]
            ],
            "type": "histogram2d"
           }
          ],
          "histogram2dcontour": [
           {
            "colorbar": {
             "outlinewidth": 0,
             "ticks": ""
            },
            "colorscale": [
             [
              0,
              "#0d0887"
             ],
             [
              0.1111111111111111,
              "#46039f"
             ],
             [
              0.2222222222222222,
              "#7201a8"
             ],
             [
              0.3333333333333333,
              "#9c179e"
             ],
             [
              0.4444444444444444,
              "#bd3786"
             ],
             [
              0.5555555555555556,
              "#d8576b"
             ],
             [
              0.6666666666666666,
              "#ed7953"
             ],
             [
              0.7777777777777778,
              "#fb9f3a"
             ],
             [
              0.8888888888888888,
              "#fdca26"
             ],
             [
              1,
              "#f0f921"
             ]
            ],
            "type": "histogram2dcontour"
           }
          ],
          "mesh3d": [
           {
            "colorbar": {
             "outlinewidth": 0,
             "ticks": ""
            },
            "type": "mesh3d"
           }
          ],
          "parcoords": [
           {
            "line": {
             "colorbar": {
              "outlinewidth": 0,
              "ticks": ""
             }
            },
            "type": "parcoords"
           }
          ],
          "pie": [
           {
            "automargin": true,
            "type": "pie"
           }
          ],
          "scatter": [
           {
            "fillpattern": {
             "fillmode": "overlay",
             "size": 10,
             "solidity": 0.2
            },
            "type": "scatter"
           }
          ],
          "scatter3d": [
           {
            "line": {
             "colorbar": {
              "outlinewidth": 0,
              "ticks": ""
             }
            },
            "marker": {
             "colorbar": {
              "outlinewidth": 0,
              "ticks": ""
             }
            },
            "type": "scatter3d"
           }
          ],
          "scattercarpet": [
           {
            "marker": {
             "colorbar": {
              "outlinewidth": 0,
              "ticks": ""
             }
            },
            "type": "scattercarpet"
           }
          ],
          "scattergeo": [
           {
            "marker": {
             "colorbar": {
              "outlinewidth": 0,
              "ticks": ""
             }
            },
            "type": "scattergeo"
           }
          ],
          "scattergl": [
           {
            "marker": {
             "colorbar": {
              "outlinewidth": 0,
              "ticks": ""
             }
            },
            "type": "scattergl"
           }
          ],
          "scattermapbox": [
           {
            "marker": {
             "colorbar": {
              "outlinewidth": 0,
              "ticks": ""
             }
            },
            "type": "scattermapbox"
           }
          ],
          "scatterpolar": [
           {
            "marker": {
             "colorbar": {
              "outlinewidth": 0,
              "ticks": ""
             }
            },
            "type": "scatterpolar"
           }
          ],
          "scatterpolargl": [
           {
            "marker": {
             "colorbar": {
              "outlinewidth": 0,
              "ticks": ""
             }
            },
            "type": "scatterpolargl"
           }
          ],
          "scatterternary": [
           {
            "marker": {
             "colorbar": {
              "outlinewidth": 0,
              "ticks": ""
             }
            },
            "type": "scatterternary"
           }
          ],
          "surface": [
           {
            "colorbar": {
             "outlinewidth": 0,
             "ticks": ""
            },
            "colorscale": [
             [
              0,
              "#0d0887"
             ],
             [
              0.1111111111111111,
              "#46039f"
             ],
             [
              0.2222222222222222,
              "#7201a8"
             ],
             [
              0.3333333333333333,
              "#9c179e"
             ],
             [
              0.4444444444444444,
              "#bd3786"
             ],
             [
              0.5555555555555556,
              "#d8576b"
             ],
             [
              0.6666666666666666,
              "#ed7953"
             ],
             [
              0.7777777777777778,
              "#fb9f3a"
             ],
             [
              0.8888888888888888,
              "#fdca26"
             ],
             [
              1,
              "#f0f921"
             ]
            ],
            "type": "surface"
           }
          ],
          "table": [
           {
            "cells": {
             "fill": {
              "color": "#EBF0F8"
             },
             "line": {
              "color": "white"
             }
            },
            "header": {
             "fill": {
              "color": "#C8D4E3"
             },
             "line": {
              "color": "white"
             }
            },
            "type": "table"
           }
          ]
         },
         "layout": {
          "annotationdefaults": {
           "arrowcolor": "#2a3f5f",
           "arrowhead": 0,
           "arrowwidth": 1
          },
          "autotypenumbers": "strict",
          "coloraxis": {
           "colorbar": {
            "outlinewidth": 0,
            "ticks": ""
           }
          },
          "colorscale": {
           "diverging": [
            [
             0,
             "#8e0152"
            ],
            [
             0.1,
             "#c51b7d"
            ],
            [
             0.2,
             "#de77ae"
            ],
            [
             0.3,
             "#f1b6da"
            ],
            [
             0.4,
             "#fde0ef"
            ],
            [
             0.5,
             "#f7f7f7"
            ],
            [
             0.6,
             "#e6f5d0"
            ],
            [
             0.7,
             "#b8e186"
            ],
            [
             0.8,
             "#7fbc41"
            ],
            [
             0.9,
             "#4d9221"
            ],
            [
             1,
             "#276419"
            ]
           ],
           "sequential": [
            [
             0,
             "#0d0887"
            ],
            [
             0.1111111111111111,
             "#46039f"
            ],
            [
             0.2222222222222222,
             "#7201a8"
            ],
            [
             0.3333333333333333,
             "#9c179e"
            ],
            [
             0.4444444444444444,
             "#bd3786"
            ],
            [
             0.5555555555555556,
             "#d8576b"
            ],
            [
             0.6666666666666666,
             "#ed7953"
            ],
            [
             0.7777777777777778,
             "#fb9f3a"
            ],
            [
             0.8888888888888888,
             "#fdca26"
            ],
            [
             1,
             "#f0f921"
            ]
           ],
           "sequentialminus": [
            [
             0,
             "#0d0887"
            ],
            [
             0.1111111111111111,
             "#46039f"
            ],
            [
             0.2222222222222222,
             "#7201a8"
            ],
            [
             0.3333333333333333,
             "#9c179e"
            ],
            [
             0.4444444444444444,
             "#bd3786"
            ],
            [
             0.5555555555555556,
             "#d8576b"
            ],
            [
             0.6666666666666666,
             "#ed7953"
            ],
            [
             0.7777777777777778,
             "#fb9f3a"
            ],
            [
             0.8888888888888888,
             "#fdca26"
            ],
            [
             1,
             "#f0f921"
            ]
           ]
          },
          "colorway": [
           "#636efa",
           "#EF553B",
           "#00cc96",
           "#ab63fa",
           "#FFA15A",
           "#19d3f3",
           "#FF6692",
           "#B6E880",
           "#FF97FF",
           "#FECB52"
          ],
          "font": {
           "color": "#2a3f5f"
          },
          "geo": {
           "bgcolor": "white",
           "lakecolor": "white",
           "landcolor": "#E5ECF6",
           "showlakes": true,
           "showland": true,
           "subunitcolor": "white"
          },
          "hoverlabel": {
           "align": "left"
          },
          "hovermode": "closest",
          "mapbox": {
           "style": "light"
          },
          "paper_bgcolor": "white",
          "plot_bgcolor": "#E5ECF6",
          "polar": {
           "angularaxis": {
            "gridcolor": "white",
            "linecolor": "white",
            "ticks": ""
           },
           "bgcolor": "#E5ECF6",
           "radialaxis": {
            "gridcolor": "white",
            "linecolor": "white",
            "ticks": ""
           }
          },
          "scene": {
           "xaxis": {
            "backgroundcolor": "#E5ECF6",
            "gridcolor": "white",
            "gridwidth": 2,
            "linecolor": "white",
            "showbackground": true,
            "ticks": "",
            "zerolinecolor": "white"
           },
           "yaxis": {
            "backgroundcolor": "#E5ECF6",
            "gridcolor": "white",
            "gridwidth": 2,
            "linecolor": "white",
            "showbackground": true,
            "ticks": "",
            "zerolinecolor": "white"
           },
           "zaxis": {
            "backgroundcolor": "#E5ECF6",
            "gridcolor": "white",
            "gridwidth": 2,
            "linecolor": "white",
            "showbackground": true,
            "ticks": "",
            "zerolinecolor": "white"
           }
          },
          "shapedefaults": {
           "line": {
            "color": "#2a3f5f"
           }
          },
          "ternary": {
           "aaxis": {
            "gridcolor": "white",
            "linecolor": "white",
            "ticks": ""
           },
           "baxis": {
            "gridcolor": "white",
            "linecolor": "white",
            "ticks": ""
           },
           "bgcolor": "#E5ECF6",
           "caxis": {
            "gridcolor": "white",
            "linecolor": "white",
            "ticks": ""
           }
          },
          "title": {
           "x": 0.05
          },
          "xaxis": {
           "automargin": true,
           "gridcolor": "white",
           "linecolor": "white",
           "ticks": "",
           "title": {
            "standoff": 15
           },
           "zerolinecolor": "white",
           "zerolinewidth": 2
          },
          "yaxis": {
           "automargin": true,
           "gridcolor": "white",
           "linecolor": "white",
           "ticks": "",
           "title": {
            "standoff": 15
           },
           "zerolinecolor": "white",
           "zerolinewidth": 2
          }
         }
        },
        "title": {
         "text": "Unique Company Websites by Category"
        },
        "xaxis": {
         "anchor": "y",
         "categoryarray": [
          "Commercial Services & Supplies",
          "Consumer Discretionary",
          "Consumer Staples",
          "Corporate Services",
          "Energy & Utilities",
          "Financials",
          "Healthcare",
          "Industrials",
          "Information Technology",
          "Materials",
          "Media, Marketing & Sales",
          "Professional Services",
          "Transportation & Logistics"
         ],
         "categoryorder": "array",
         "domain": [
          0,
          1
         ],
         "title": {
          "text": "Category"
         }
        },
        "yaxis": {
         "anchor": "x",
         "domain": [
          0,
          1
         ],
         "title": {
          "text": "Website"
         }
        }
       }
      }
     },
     "metadata": {},
     "output_type": "display_data"
    }
   ],
   "source": [
    "import plotly_express as px\n",
    "\n",
    "# Group by Category \n",
    "grouped_df = df_sample.groupby(['Category'], as_index=False)['Website'].nunique()\n",
    "\n",
    "# Create bar plot\n",
    "fig = px.bar(\n",
    "    grouped_df,\n",
    "    x='Category',\n",
    "    y='Website',\n",
    "    color='Category',\n",
    "    title='Unique Company Websites by Category',\n",
    "    barmode='group'  # Group bars by industry\n",
    ")\n",
    "\n",
    "# Adjust the axes to scale automatically per group\n",
    "fig.update_yaxes(matches=None)  # This ensures y-axes are independent\n",
    "\n",
    "# Show the plot\n",
    "fig.show()"
   ]
  },
  {
   "cell_type": "markdown",
   "metadata": {},
   "source": [
    "# Label Encoding"
   ]
  },
  {
   "cell_type": "code",
   "execution_count": 8,
   "metadata": {},
   "outputs": [
    {
     "name": "stdout",
     "output_type": "stream",
     "text": [
      "['Industrials' 'Media, Marketing & Sales' 'Professional Services'\n",
      " 'Information Technology' 'Consumer Staples' 'Energy & Utilities'\n",
      " 'Transportation & Logistics' 'Materials' 'Commercial Services & Supplies'\n",
      " 'Healthcare' 'Corporate Services' 'Consumer Discretionary' 'Financials']\n",
      "[ 7 10 11  8  2  4 12  9  0  6  3  1  5]\n"
     ]
    }
   ],
   "source": [
    "#Turning the labels into numbers\n",
    "label_encoder = LabelEncoder()\n",
    "df_sample['Category_encoded'] = label_encoder.fit_transform(df_sample['Category'])\n",
    "print(df_sample['Category'].unique())\n",
    "print(df_sample['Category_encoded'].unique())"
   ]
  },
  {
   "cell_type": "markdown",
   "metadata": {},
   "source": [
    "# Feature Extraction\n",
    "\n",
    "I'm going to use k-fold cross-validation to evaluate my models later on. "
   ]
  },
  {
   "cell_type": "code",
   "execution_count": 10,
   "metadata": {},
   "outputs": [
    {
     "name": "stdout",
     "output_type": "stream",
     "text": [
      "(5000,)\n",
      "(5000,)\n"
     ]
    }
   ],
   "source": [
    "# split the data into features (X) and labels (y)\n",
    "X = df_sample['clean_text_str']\n",
    "y = df_sample['Category_encoded']\n",
    "\n",
    "print (X.shape)\n",
    "print(y.shape)"
   ]
  },
  {
   "cell_type": "code",
   "execution_count": 11,
   "metadata": {},
   "outputs": [],
   "source": [
    "# Train-Test Split\n",
    "X_train, X_test, y_train, y_test = train_test_split(X, y, test_size=0.3, random_state=42)\n",
    "\n",
    "# Define KFold cross-validator\n",
    "kf = KFold(n_splits=10, shuffle=True, random_state=42) # using the normal 10 folds"
   ]
  },
  {
   "cell_type": "code",
   "execution_count": 12,
   "metadata": {},
   "outputs": [],
   "source": [
    "# Define the classification models to be tested\n",
    "models = {\n",
    "    'Naive Bayes': MultinomialNB(),\n",
    "    'Logistic Regression': LogisticRegression(multi_class='ovr', max_iter=1000),\n",
    "    'SGD Classifier': SGDClassifier(),\n",
    "    'Random Forest': RandomForestClassifier(n_estimators=100)\n",
    "}"
   ]
  },
  {
   "cell_type": "markdown",
   "metadata": {},
   "source": [
    "## Notes:\n",
    "\n",
    "I've chosen the following models to test: \n",
    "1. Naive Bayes\n",
    "    - Pros:\n",
    "        - This model is extremely fast and in production can be used as an 'online' model (i.e. can be updated in real time)\n",
    "        - MultinomialNB is usually very good with discrete features like word counts. \n",
    "        - Works well with text data and can hand high-dimiensional data well (low memory usage)\n",
    "    - Cons\n",
    "        - Assumes independence (words are not independent in real life)\n",
    "        - Might be too simplistic --> might not work as well for certain industries \n",
    "2. Logistic Regression (on)\n",
    "    - Pros:\n",
    "        - Easy to interpret\n",
    "        - Works well with when the relationship between features and classes is roughly linear (--> frequency of terms correlates with business category)\n",
    "        - regularization helps with overfitting\n",
    "    - Cons:\n",
    "        - requires linear separability\n",
    "        - sensitive to outliers\n",
    "        - not the best with a large number of features (works best with small or medium-sized datasets)\n",
    "3. Stochastic Gradient Descent (SGD)\n",
    "    - Pros:\n",
    "        - Can scale well for large datasets\n",
    "        - supports regularlization for overfitting\n",
    "        - Can learn incrementally in streams or batches\n",
    "        - can be used with different loss functions\n",
    "    - Cons:\n",
    "        - requires careful hyperparameter tuning \n",
    "        - might require a lot of iterations\n",
    "        - can be instable\n",
    "        - not as interpretable as other algorithms\n",
    "\n",
    "4. Random Forest\n",
    "    - Pros:\n",
    "        - robust to overfitting\n",
    "        - can handle non-linear relationships\n",
    "        - gives some insight into which features to select\n",
    "        - tolerates missing data and outliers\n",
    "    - Cons:\n",
    "        - slow and computationally expensive\n",
    "        - not as interpretable\n",
    "        - can struggle with text data or data with high-dimensionality (if chosen would benefit from dimensionality reduction)\n"
   ]
  },
  {
   "cell_type": "markdown",
   "metadata": {},
   "source": [
    "## DistilBERT embeddings\n",
    "\n",
    "Because DistilBERT is bidirectional, it accounts for the context of words while TF-IDF does not. BERT uses deep neural networks so it will be\n",
    "more computationally expensive than TF-IDF, but it's still worth testing. I'm using the DistilBERT model over BERT because I'm not working with GPU. "
   ]
  },
  {
   "cell_type": "code",
   "execution_count": 59,
   "metadata": {},
   "outputs": [],
   "source": [
    "class DistilBERTEmbeddingTransformer(BaseEstimator, TransformerMixin):\n",
    "    def __init__(self, model_name='distilbert-base-uncased', max_length=512): #use distilbert because it's smaller and faster than BERT\n",
    "        self.model_name = model_name  # Explicitly set model_name\n",
    "        self.tokenizer = DistilBertTokenizer.from_pretrained(self.model_name)\n",
    "        self.model = DistilBertModel.from_pretrained(self.model_name)\n",
    "        self.max_length = max_length\n",
    "\n",
    "    def fit(self, X, y=None):\n",
    "        # Fit method required for scikit-learn compatibility\n",
    "        return self\n",
    "\n",
    "    def transform(self, X):\n",
    "        embeddings = []\n",
    "        for text in X:\n",
    "            # Tokenize and convert text to tensors\n",
    "            tokens = self.tokenizer(text, return_tensors='pt', padding='max_length',\n",
    "                                    truncation=True, max_length=self.max_length)\n",
    "            \n",
    "            # Ensure no gradient computation for embeddings\n",
    "            with torch.no_grad():\n",
    "                output = self.model(**tokens)\n",
    "                # Take the CLS token embedding\n",
    "                cls_embedding = output.last_hidden_state[:, 0, :].numpy()\n",
    "            \n",
    "            embeddings.append(cls_embedding[0])  # Append as numpy array\n",
    "            \n",
    "        return np.array(embeddings)\n"
   ]
  },
  {
   "cell_type": "code",
   "execution_count": 71,
   "metadata": {},
   "outputs": [
    {
     "name": "stderr",
     "output_type": "stream",
     "text": [
      "c:\\Users\\megan\\Anaconda3\\lib\\site-packages\\transformers\\tokenization_utils_base.py:1601: FutureWarning:\n",
      "\n",
      "`clean_up_tokenization_spaces` was not set. It will be set to `True` by default. This behavior will be depracted in transformers v4.45, and will be then set to `False` by default. For more details check this issue: https://github.com/huggingface/transformers/issues/31884\n",
      "\n"
     ]
    }
   ],
   "source": [
    "# Precompute BERT embeddings for X_train and X_test --> results already precomputed and saved in model folder\n",
    "\n",
    "# instead of recalculating the BERT embeddings during cross-validation, precompute them\n",
    "# once and store them \n",
    "# this should greatly reduce time for model training and evaluation\n",
    "bert_transformer = DistilBERTEmbeddingTransformer()\n",
    "# X_train_embeddings = bert_transformer.transform(X_train)\n",
    "# X_test_embeddings = bert_transformer.transform(X_test)\n"
   ]
  },
  {
   "cell_type": "code",
   "execution_count": 72,
   "metadata": {},
   "outputs": [],
   "source": [
    "# # Save the embeddings to disk for future use because it's too computationally expensive to run these\n",
    "# np.save('X_train_distilbert.npy', X_train_embeddings)\n",
    "# np.save('X_test_distilbert.npy', X_test_embeddings)\n"
   ]
  },
  {
   "cell_type": "code",
   "execution_count": 93,
   "metadata": {},
   "outputs": [],
   "source": [
    "# # load embeddings\n",
    "X_train_embeddings2 = np.load(os.path.abspath(os.path.join(current_dir, '..', 'model','X_train_distilbert.npy')))\n",
    "X_test_embeddings2 = np.load(os.path.join(current_dir, '..', 'model','X_test_distilbert.npy'))"
   ]
  },
  {
   "cell_type": "markdown",
   "metadata": {},
   "source": [
    "# Model Evaluation"
   ]
  },
  {
   "cell_type": "code",
   "execution_count": 67,
   "metadata": {},
   "outputs": [
    {
     "name": "stdout",
     "output_type": "stream",
     "text": [
      "\n",
      "=== Naive Bayes ===\n",
      "TF-IDF Naive Bayes Confusion Matrix of Category Performance: 0.616\n",
      "{'Commercial Services & Supplies': {'precision': 0.578125, 'recall': 0.5441176470588235, 'f1-score': 0.5606060606060606, 'support': 136}, 'Consumer Discretionary': {'precision': 0.6666666666666666, 'recall': 0.06060606060606061, 'f1-score': 0.1111111111111111, 'support': 66}, 'Consumer Staples': {'precision': 0.5223880597014925, 'recall': 0.5882352941176471, 'f1-score': 0.5533596837944663, 'support': 119}, 'Corporate Services': {'precision': 0.5141242937853108, 'recall': 0.6363636363636364, 'f1-score': 0.56875, 'support': 143}, 'Energy & Utilities': {'precision': 0.75, 'recall': 0.711864406779661, 'f1-score': 0.7304347826086958, 'support': 118}, 'Financials': {'precision': 0.8145161290322581, 'recall': 0.7062937062937062, 'f1-score': 0.7565543071161049, 'support': 143}, 'Healthcare': {'precision': 0.7087912087912088, 'recall': 0.86, 'f1-score': 0.7771084337349398, 'support': 150}, 'Industrials': {'precision': 0.5897435897435898, 'recall': 0.2987012987012987, 'f1-score': 0.39655172413793105, 'support': 77}, 'Information Technology': {'precision': 0.6, 'recall': 0.775, 'f1-score': 0.6763636363636363, 'support': 120}, 'Materials': {'precision': 0.3888888888888889, 'recall': 0.1346153846153846, 'f1-score': 0.19999999999999998, 'support': 52}, 'Media, Marketing & Sales': {'precision': 0.5915492957746479, 'recall': 0.711864406779661, 'f1-score': 0.6461538461538462, 'support': 118}, 'Professional Services': {'precision': 0.7804878048780488, 'recall': 0.6666666666666666, 'f1-score': 0.7191011235955055, 'support': 144}, 'Transportation & Logistics': {'precision': 0.425, 'recall': 0.5964912280701754, 'f1-score': 0.4963503649635036, 'support': 114}, 'accuracy': 0.616, 'macro avg': {'precision': 0.6100216105586239, 'recall': 0.5608322873886709, 'f1-score': 0.5532650057066001, 'support': 1500}, 'weighted avg': {'precision': 0.625252653548265, 'recall': 0.616, 'f1-score': 0.6001202810966482, 'support': 1500}}\n",
      "\n",
      "=== Logistic Regression ===\n"
     ]
    },
    {
     "name": "stderr",
     "output_type": "stream",
     "text": [
      "<ipython-input-67-eca499b102a4>:37: SettingWithCopyWarning:\n",
      "\n",
      "\n",
      "A value is trying to be set on a copy of a slice from a DataFrame.\n",
      "Try using .loc[row_indexer,col_indexer] = value instead\n",
      "\n",
      "See the caveats in the documentation: https://pandas.pydata.org/pandas-docs/stable/user_guide/indexing.html#returning-a-view-versus-a-copy\n",
      "\n"
     ]
    },
    {
     "name": "stdout",
     "output_type": "stream",
     "text": [
      "TF-IDF Logistic Regression Confusion Matrix of Category Performance: 0.6226666666666667\n",
      "{'Commercial Services & Supplies': {'precision': 0.624, 'recall': 0.5735294117647058, 'f1-score': 0.5977011494252874, 'support': 136}, 'Consumer Discretionary': {'precision': 0.5925925925925926, 'recall': 0.24242424242424243, 'f1-score': 0.3440860215053763, 'support': 66}, 'Consumer Staples': {'precision': 0.5504587155963303, 'recall': 0.5042016806722689, 'f1-score': 0.5263157894736842, 'support': 119}, 'Corporate Services': {'precision': 0.558282208588957, 'recall': 0.6363636363636364, 'f1-score': 0.5947712418300654, 'support': 143}, 'Energy & Utilities': {'precision': 0.7410714285714286, 'recall': 0.7033898305084746, 'f1-score': 0.7217391304347825, 'support': 118}, 'Financials': {'precision': 0.7555555555555555, 'recall': 0.7132867132867133, 'f1-score': 0.7338129496402878, 'support': 143}, 'Healthcare': {'precision': 0.7777777777777778, 'recall': 0.84, 'f1-score': 0.8076923076923077, 'support': 150}, 'Industrials': {'precision': 0.5, 'recall': 0.2987012987012987, 'f1-score': 0.37398373983739835, 'support': 77}, 'Information Technology': {'precision': 0.6521739130434783, 'recall': 0.75, 'f1-score': 0.6976744186046512, 'support': 120}, 'Materials': {'precision': 0.30434782608695654, 'recall': 0.2692307692307692, 'f1-score': 0.28571428571428575, 'support': 52}, 'Media, Marketing & Sales': {'precision': 0.5947712418300654, 'recall': 0.7711864406779662, 'f1-score': 0.6715867158671587, 'support': 118}, 'Professional Services': {'precision': 0.7407407407407407, 'recall': 0.6944444444444444, 'f1-score': 0.7168458781362007, 'support': 144}, 'Transportation & Logistics': {'precision': 0.40268456375838924, 'recall': 0.5263157894736842, 'f1-score': 0.4562737642585551, 'support': 114}, 'accuracy': 0.6226666666666667, 'macro avg': {'precision': 0.5995735818570979, 'recall': 0.5786980198114002, 'f1-score': 0.579092107109234, 'support': 1500}, 'weighted avg': {'precision': 0.6245428425137632, 'recall': 0.6226666666666667, 'f1-score': 0.6165321898137113, 'support': 1500}}\n",
      "\n",
      "=== SGD Classifier ===\n"
     ]
    },
    {
     "name": "stderr",
     "output_type": "stream",
     "text": [
      "<ipython-input-67-eca499b102a4>:37: SettingWithCopyWarning:\n",
      "\n",
      "\n",
      "A value is trying to be set on a copy of a slice from a DataFrame.\n",
      "Try using .loc[row_indexer,col_indexer] = value instead\n",
      "\n",
      "See the caveats in the documentation: https://pandas.pydata.org/pandas-docs/stable/user_guide/indexing.html#returning-a-view-versus-a-copy\n",
      "\n"
     ]
    },
    {
     "name": "stdout",
     "output_type": "stream",
     "text": [
      "TF-IDF SGD Classifier Confusion Matrix of Category Performance: 0.6026666666666667\n",
      "{'Commercial Services & Supplies': {'precision': 0.583941605839416, 'recall': 0.5882352941176471, 'f1-score': 0.5860805860805861, 'support': 136}, 'Consumer Discretionary': {'precision': 0.2916666666666667, 'recall': 0.10606060606060606, 'f1-score': 0.15555555555555556, 'support': 66}, 'Consumer Staples': {'precision': 0.48091603053435117, 'recall': 0.5294117647058824, 'f1-score': 0.504, 'support': 119}, 'Corporate Services': {'precision': 0.5228758169934641, 'recall': 0.5594405594405595, 'f1-score': 0.5405405405405406, 'support': 143}, 'Energy & Utilities': {'precision': 0.7213114754098361, 'recall': 0.7457627118644068, 'f1-score': 0.7333333333333334, 'support': 118}, 'Financials': {'precision': 0.7692307692307693, 'recall': 0.6993006993006993, 'f1-score': 0.7326007326007327, 'support': 143}, 'Healthcare': {'precision': 0.7621951219512195, 'recall': 0.8333333333333334, 'f1-score': 0.7961783439490446, 'support': 150}, 'Industrials': {'precision': 0.42424242424242425, 'recall': 0.36363636363636365, 'f1-score': 0.3916083916083916, 'support': 77}, 'Information Technology': {'precision': 0.6573426573426573, 'recall': 0.7833333333333333, 'f1-score': 0.7148288973384029, 'support': 120}, 'Materials': {'precision': 0.18181818181818182, 'recall': 0.07692307692307693, 'f1-score': 0.10810810810810811, 'support': 52}, 'Media, Marketing & Sales': {'precision': 0.55625, 'recall': 0.7542372881355932, 'f1-score': 0.6402877697841726, 'support': 118}, 'Professional Services': {'precision': 0.7279411764705882, 'recall': 0.6875, 'f1-score': 0.7071428571428572, 'support': 144}, 'Transportation & Logistics': {'precision': 0.41964285714285715, 'recall': 0.41228070175438597, 'f1-score': 0.41592920353982304, 'support': 114}, 'accuracy': 0.6026666666666667, 'macro avg': {'precision': 0.5461057525878793, 'recall': 0.5491889025081452, 'f1-score': 0.5404764861216577, 'support': 1500}, 'weighted avg': {'precision': 0.5862753175848259, 'recall': 0.6026666666666667, 'f1-score': 0.5895482041874921, 'support': 1500}}\n",
      "\n",
      "=== Random Forest ===\n"
     ]
    },
    {
     "name": "stderr",
     "output_type": "stream",
     "text": [
      "<ipython-input-67-eca499b102a4>:37: SettingWithCopyWarning:\n",
      "\n",
      "\n",
      "A value is trying to be set on a copy of a slice from a DataFrame.\n",
      "Try using .loc[row_indexer,col_indexer] = value instead\n",
      "\n",
      "See the caveats in the documentation: https://pandas.pydata.org/pandas-docs/stable/user_guide/indexing.html#returning-a-view-versus-a-copy\n",
      "\n"
     ]
    },
    {
     "name": "stdout",
     "output_type": "stream",
     "text": [
      "TF-IDF Random Forest Confusion Matrix of Category Performance: 0.6206666666666667\n",
      "{'Commercial Services & Supplies': {'precision': 0.5945945945945946, 'recall': 0.4852941176470588, 'f1-score': 0.5344129554655871, 'support': 136}, 'Consumer Discretionary': {'precision': 0.5925925925925926, 'recall': 0.24242424242424243, 'f1-score': 0.3440860215053763, 'support': 66}, 'Consumer Staples': {'precision': 0.5130434782608696, 'recall': 0.4957983193277311, 'f1-score': 0.5042735042735041, 'support': 119}, 'Corporate Services': {'precision': 0.5584415584415584, 'recall': 0.6013986013986014, 'f1-score': 0.5791245791245792, 'support': 143}, 'Energy & Utilities': {'precision': 0.6717557251908397, 'recall': 0.7457627118644068, 'f1-score': 0.7068273092369477, 'support': 118}, 'Financials': {'precision': 0.722972972972973, 'recall': 0.7482517482517482, 'f1-score': 0.7353951890034365, 'support': 143}, 'Healthcare': {'precision': 0.7514792899408284, 'recall': 0.8466666666666667, 'f1-score': 0.7962382445141065, 'support': 150}, 'Industrials': {'precision': 0.42, 'recall': 0.2727272727272727, 'f1-score': 0.33070866141732286, 'support': 77}, 'Information Technology': {'precision': 0.6258064516129033, 'recall': 0.8083333333333333, 'f1-score': 0.7054545454545454, 'support': 120}, 'Materials': {'precision': 0.3888888888888889, 'recall': 0.2692307692307692, 'f1-score': 0.3181818181818182, 'support': 52}, 'Media, Marketing & Sales': {'precision': 0.6363636363636364, 'recall': 0.7711864406779662, 'f1-score': 0.6973180076628352, 'support': 118}, 'Professional Services': {'precision': 0.8032786885245902, 'recall': 0.6805555555555556, 'f1-score': 0.7368421052631579, 'support': 144}, 'Transportation & Logistics': {'precision': 0.43884892086330934, 'recall': 0.5350877192982456, 'f1-score': 0.48221343873517786, 'support': 114}, 'accuracy': 0.6206666666666667, 'macro avg': {'precision': 0.593697446019045, 'recall': 0.5771321152618152, 'f1-score': 0.5746981830644919, 'support': 1500}, 'weighted avg': {'precision': 0.6164735403850525, 'recall': 0.6206666666666667, 'f1-score': 0.6108278395917713, 'support': 1500}}\n",
      "                 Model Pipeline  Cross_Val_Accuracy  Test_Accuracy  Precision  \\\n",
      "0          Naive Bayes   TF-IDF            0.596000       0.616000   0.625253   \n",
      "1  Logistic Regression   TF-IDF            0.615143       0.622667   0.624543   \n",
      "2       SGD Classifier   TF-IDF            0.598000       0.602667   0.586275   \n",
      "3        Random Forest   TF-IDF            0.599714       0.620667   0.616474   \n",
      "\n",
      "     Recall  F1-Score  \n",
      "0  0.616000  0.600120  \n",
      "1  0.622667  0.616532  \n",
      "2  0.602667  0.589548  \n",
      "3  0.620667  0.610828  \n"
     ]
    },
    {
     "name": "stderr",
     "output_type": "stream",
     "text": [
      "<ipython-input-67-eca499b102a4>:37: SettingWithCopyWarning:\n",
      "\n",
      "\n",
      "A value is trying to be set on a copy of a slice from a DataFrame.\n",
      "Try using .loc[row_indexer,col_indexer] = value instead\n",
      "\n",
      "See the caveats in the documentation: https://pandas.pydata.org/pandas-docs/stable/user_guide/indexing.html#returning-a-view-versus-a-copy\n",
      "\n"
     ]
    }
   ],
   "source": [
    "# Initialize lists to store results for comparison\n",
    "results = []\n",
    "tf_report_list = []\n",
    "\n",
    "# Iterate over the models and compare pipelines (TF-IDF vs BERT embeddings)\n",
    "for model_name, model in models.items():\n",
    "    print(f\"\\n=== {model_name} ===\")\n",
    "    ### TF-IDF Pipeline\n",
    "    tfidf_model_pipeline = Pipeline([\n",
    "        ('tfidf', TfidfVectorizer(max_features=100, stop_words='english')),\n",
    "        (model_name, model)\n",
    "    ])\n",
    "\n",
    "    # Cross-Validation for TF-IDF\n",
    "    tfidf_scores = cross_val_score(tfidf_model_pipeline, X_train, y_train, cv=kf, scoring='accuracy')\n",
    "    \n",
    "    # Train on TF-IDF\n",
    "    tfidf_model_pipeline.fit(X_train, y_train)\n",
    "    y_pred_tfidf = tfidf_model_pipeline.predict(X_test)\n",
    "    tfidf_accuracy = accuracy_score(y_test, y_pred_tfidf)\n",
    "    tfidf_report = classification_report(y_test, y_pred_tfidf, target_names=label_encoder.classes_, output_dict=True)\n",
    "\n",
    "    print(f\"TF-IDF {model_name} Confusion Matrix of Category Performance: {tfidf_accuracy}\")\n",
    "    print(tfidf_report)\n",
    "\n",
    "    # tfidf_report['Commercial Services & Supplies']\n",
    "    tf_df = pd.DataFrame([tfidf_report]).T\n",
    "    tf_df = tf_df.reset_index().rename(columns={'index':'Category'})\n",
    "    tf_df_report = tf_df[0].apply(pd.Series)\n",
    "\n",
    "    tf_final = pd.merge(tf_df['Category'], tf_df_report, left_index=True,right_index=True)\n",
    "\n",
    "    # filter dataframe                                   \n",
    "    tf_clean = tf_final.loc[(tf_final['Category']!='weighted avg') & (tf_final['Category']!='macro avg') & (tf_final['Category']!='accuracy')]\n",
    "    # tf_final = tf_final.loc[(tf_final['Category']!='weighted avg' & tf_final['Category']!='macro avg')]\n",
    "    # tf_clean.sort_values(by='f1-score',ascending=False).reset_index()\n",
    "    tf_clean['model']=model_name\n",
    "    tf_report_list.append(tf_clean)\n",
    "\n",
    "    # Store TF-IDF results\n",
    "    results.append({\n",
    "        'Model': model_name,\n",
    "        'Pipeline': 'TF-IDF',\n",
    "        'Cross_Val_Accuracy': tfidf_scores.mean(),\n",
    "        'Test_Accuracy': tfidf_accuracy,\n",
    "        'Precision': tfidf_report['weighted avg']['precision'],\n",
    "        'Recall': tfidf_report['weighted avg']['recall'],\n",
    "        'F1-Score': tfidf_report['weighted avg']['f1-score']\n",
    "    })\n",
    "\n",
    "# Create DataFrame for all the results\n",
    "results_df = pd.DataFrame(results)\n",
    "\n",
    "# Display results for comparison\n",
    "print(results_df)\n"
   ]
  },
  {
   "cell_type": "code",
   "execution_count": 70,
   "metadata": {},
   "outputs": [
    {
     "data": {
      "text/html": [
       "<div>\n",
       "<style scoped>\n",
       "    .dataframe tbody tr th:only-of-type {\n",
       "        vertical-align: middle;\n",
       "    }\n",
       "\n",
       "    .dataframe tbody tr th {\n",
       "        vertical-align: top;\n",
       "    }\n",
       "\n",
       "    .dataframe thead th {\n",
       "        text-align: right;\n",
       "    }\n",
       "</style>\n",
       "<table border=\"1\" class=\"dataframe\">\n",
       "  <thead>\n",
       "    <tr style=\"text-align: right;\">\n",
       "      <th></th>\n",
       "      <th>Model</th>\n",
       "      <th>Pipeline</th>\n",
       "      <th>Cross_Val_Accuracy</th>\n",
       "      <th>Test_Accuracy</th>\n",
       "      <th>Precision</th>\n",
       "      <th>Recall</th>\n",
       "      <th>F1-Score</th>\n",
       "    </tr>\n",
       "  </thead>\n",
       "  <tbody>\n",
       "    <tr>\n",
       "      <th>1</th>\n",
       "      <td>Logistic Regression</td>\n",
       "      <td>TF-IDF</td>\n",
       "      <td>0.615143</td>\n",
       "      <td>0.622667</td>\n",
       "      <td>0.624543</td>\n",
       "      <td>0.622667</td>\n",
       "      <td>0.616532</td>\n",
       "    </tr>\n",
       "    <tr>\n",
       "      <th>3</th>\n",
       "      <td>Random Forest</td>\n",
       "      <td>TF-IDF</td>\n",
       "      <td>0.599714</td>\n",
       "      <td>0.620667</td>\n",
       "      <td>0.616474</td>\n",
       "      <td>0.620667</td>\n",
       "      <td>0.610828</td>\n",
       "    </tr>\n",
       "    <tr>\n",
       "      <th>0</th>\n",
       "      <td>Naive Bayes</td>\n",
       "      <td>TF-IDF</td>\n",
       "      <td>0.596000</td>\n",
       "      <td>0.616000</td>\n",
       "      <td>0.625253</td>\n",
       "      <td>0.616000</td>\n",
       "      <td>0.600120</td>\n",
       "    </tr>\n",
       "    <tr>\n",
       "      <th>2</th>\n",
       "      <td>SGD Classifier</td>\n",
       "      <td>TF-IDF</td>\n",
       "      <td>0.598000</td>\n",
       "      <td>0.602667</td>\n",
       "      <td>0.586275</td>\n",
       "      <td>0.602667</td>\n",
       "      <td>0.589548</td>\n",
       "    </tr>\n",
       "  </tbody>\n",
       "</table>\n",
       "</div>"
      ],
      "text/plain": [
       "                 Model Pipeline  Cross_Val_Accuracy  Test_Accuracy  Precision  \\\n",
       "1  Logistic Regression   TF-IDF            0.615143       0.622667   0.624543   \n",
       "3        Random Forest   TF-IDF            0.599714       0.620667   0.616474   \n",
       "0          Naive Bayes   TF-IDF            0.596000       0.616000   0.625253   \n",
       "2       SGD Classifier   TF-IDF            0.598000       0.602667   0.586275   \n",
       "\n",
       "     Recall  F1-Score  \n",
       "1  0.622667  0.616532  \n",
       "3  0.620667  0.610828  \n",
       "0  0.616000  0.600120  \n",
       "2  0.602667  0.589548  "
      ]
     },
     "execution_count": 70,
     "metadata": {},
     "output_type": "execute_result"
    }
   ],
   "source": [
    "# TF-IDF Results By Model\n",
    "results_df.sort_values(by='F1-Score',ascending=False)"
   ]
  },
  {
   "cell_type": "code",
   "execution_count": 66,
   "metadata": {},
   "outputs": [
    {
     "data": {
      "text/html": [
       "<div>\n",
       "<style scoped>\n",
       "    .dataframe tbody tr th:only-of-type {\n",
       "        vertical-align: middle;\n",
       "    }\n",
       "\n",
       "    .dataframe tbody tr th {\n",
       "        vertical-align: top;\n",
       "    }\n",
       "\n",
       "    .dataframe thead th {\n",
       "        text-align: right;\n",
       "    }\n",
       "</style>\n",
       "<table border=\"1\" class=\"dataframe\">\n",
       "  <thead>\n",
       "    <tr style=\"text-align: right;\">\n",
       "      <th></th>\n",
       "      <th>Category</th>\n",
       "      <th>0</th>\n",
       "      <th>f1-score</th>\n",
       "      <th>precision</th>\n",
       "      <th>recall</th>\n",
       "      <th>support</th>\n",
       "      <th>model</th>\n",
       "    </tr>\n",
       "  </thead>\n",
       "  <tbody>\n",
       "    <tr>\n",
       "      <th>6</th>\n",
       "      <td>Healthcare</td>\n",
       "      <td>NaN</td>\n",
       "      <td>0.785047</td>\n",
       "      <td>0.736842</td>\n",
       "      <td>0.840000</td>\n",
       "      <td>150.0</td>\n",
       "      <td>SGD Classifier</td>\n",
       "    </tr>\n",
       "    <tr>\n",
       "      <th>5</th>\n",
       "      <td>Financials</td>\n",
       "      <td>NaN</td>\n",
       "      <td>0.754579</td>\n",
       "      <td>0.792308</td>\n",
       "      <td>0.720280</td>\n",
       "      <td>143.0</td>\n",
       "      <td>SGD Classifier</td>\n",
       "    </tr>\n",
       "    <tr>\n",
       "      <th>4</th>\n",
       "      <td>Energy &amp; Utilities</td>\n",
       "      <td>NaN</td>\n",
       "      <td>0.745763</td>\n",
       "      <td>0.745763</td>\n",
       "      <td>0.745763</td>\n",
       "      <td>118.0</td>\n",
       "      <td>SGD Classifier</td>\n",
       "    </tr>\n",
       "    <tr>\n",
       "      <th>11</th>\n",
       "      <td>Professional Services</td>\n",
       "      <td>NaN</td>\n",
       "      <td>0.723247</td>\n",
       "      <td>0.771654</td>\n",
       "      <td>0.680556</td>\n",
       "      <td>144.0</td>\n",
       "      <td>SGD Classifier</td>\n",
       "    </tr>\n",
       "    <tr>\n",
       "      <th>8</th>\n",
       "      <td>Information Technology</td>\n",
       "      <td>NaN</td>\n",
       "      <td>0.707692</td>\n",
       "      <td>0.657143</td>\n",
       "      <td>0.766667</td>\n",
       "      <td>120.0</td>\n",
       "      <td>SGD Classifier</td>\n",
       "    </tr>\n",
       "    <tr>\n",
       "      <th>10</th>\n",
       "      <td>Media, Marketing &amp; Sales</td>\n",
       "      <td>NaN</td>\n",
       "      <td>0.639175</td>\n",
       "      <td>0.537572</td>\n",
       "      <td>0.788136</td>\n",
       "      <td>118.0</td>\n",
       "      <td>SGD Classifier</td>\n",
       "    </tr>\n",
       "    <tr>\n",
       "      <th>0</th>\n",
       "      <td>Commercial Services &amp; Supplies</td>\n",
       "      <td>NaN</td>\n",
       "      <td>0.577075</td>\n",
       "      <td>0.623932</td>\n",
       "      <td>0.536765</td>\n",
       "      <td>136.0</td>\n",
       "      <td>SGD Classifier</td>\n",
       "    </tr>\n",
       "    <tr>\n",
       "      <th>3</th>\n",
       "      <td>Corporate Services</td>\n",
       "      <td>NaN</td>\n",
       "      <td>0.561151</td>\n",
       "      <td>0.577778</td>\n",
       "      <td>0.545455</td>\n",
       "      <td>143.0</td>\n",
       "      <td>SGD Classifier</td>\n",
       "    </tr>\n",
       "    <tr>\n",
       "      <th>2</th>\n",
       "      <td>Consumer Staples</td>\n",
       "      <td>NaN</td>\n",
       "      <td>0.485106</td>\n",
       "      <td>0.491379</td>\n",
       "      <td>0.478992</td>\n",
       "      <td>119.0</td>\n",
       "      <td>SGD Classifier</td>\n",
       "    </tr>\n",
       "    <tr>\n",
       "      <th>12</th>\n",
       "      <td>Transportation &amp; Logistics</td>\n",
       "      <td>NaN</td>\n",
       "      <td>0.446097</td>\n",
       "      <td>0.387097</td>\n",
       "      <td>0.526316</td>\n",
       "      <td>114.0</td>\n",
       "      <td>SGD Classifier</td>\n",
       "    </tr>\n",
       "    <tr>\n",
       "      <th>7</th>\n",
       "      <td>Industrials</td>\n",
       "      <td>NaN</td>\n",
       "      <td>0.400000</td>\n",
       "      <td>0.426471</td>\n",
       "      <td>0.376623</td>\n",
       "      <td>77.0</td>\n",
       "      <td>SGD Classifier</td>\n",
       "    </tr>\n",
       "    <tr>\n",
       "      <th>1</th>\n",
       "      <td>Consumer Discretionary</td>\n",
       "      <td>NaN</td>\n",
       "      <td>0.264151</td>\n",
       "      <td>0.350000</td>\n",
       "      <td>0.212121</td>\n",
       "      <td>66.0</td>\n",
       "      <td>SGD Classifier</td>\n",
       "    </tr>\n",
       "    <tr>\n",
       "      <th>9</th>\n",
       "      <td>Materials</td>\n",
       "      <td>NaN</td>\n",
       "      <td>0.096774</td>\n",
       "      <td>0.300000</td>\n",
       "      <td>0.057692</td>\n",
       "      <td>52.0</td>\n",
       "      <td>SGD Classifier</td>\n",
       "    </tr>\n",
       "    <tr>\n",
       "      <th>6</th>\n",
       "      <td>Healthcare</td>\n",
       "      <td>NaN</td>\n",
       "      <td>0.825397</td>\n",
       "      <td>0.787879</td>\n",
       "      <td>0.866667</td>\n",
       "      <td>150.0</td>\n",
       "      <td>Random Forest</td>\n",
       "    </tr>\n",
       "    <tr>\n",
       "      <th>5</th>\n",
       "      <td>Financials</td>\n",
       "      <td>NaN</td>\n",
       "      <td>0.743056</td>\n",
       "      <td>0.737931</td>\n",
       "      <td>0.748252</td>\n",
       "      <td>143.0</td>\n",
       "      <td>Random Forest</td>\n",
       "    </tr>\n",
       "    <tr>\n",
       "      <th>11</th>\n",
       "      <td>Professional Services</td>\n",
       "      <td>NaN</td>\n",
       "      <td>0.734082</td>\n",
       "      <td>0.796748</td>\n",
       "      <td>0.680556</td>\n",
       "      <td>144.0</td>\n",
       "      <td>Random Forest</td>\n",
       "    </tr>\n",
       "    <tr>\n",
       "      <th>4</th>\n",
       "      <td>Energy &amp; Utilities</td>\n",
       "      <td>NaN</td>\n",
       "      <td>0.707819</td>\n",
       "      <td>0.688000</td>\n",
       "      <td>0.728814</td>\n",
       "      <td>118.0</td>\n",
       "      <td>Random Forest</td>\n",
       "    </tr>\n",
       "    <tr>\n",
       "      <th>8</th>\n",
       "      <td>Information Technology</td>\n",
       "      <td>NaN</td>\n",
       "      <td>0.681319</td>\n",
       "      <td>0.607843</td>\n",
       "      <td>0.775000</td>\n",
       "      <td>120.0</td>\n",
       "      <td>Random Forest</td>\n",
       "    </tr>\n",
       "    <tr>\n",
       "      <th>10</th>\n",
       "      <td>Media, Marketing &amp; Sales</td>\n",
       "      <td>NaN</td>\n",
       "      <td>0.656371</td>\n",
       "      <td>0.602837</td>\n",
       "      <td>0.720339</td>\n",
       "      <td>118.0</td>\n",
       "      <td>Random Forest</td>\n",
       "    </tr>\n",
       "    <tr>\n",
       "      <th>3</th>\n",
       "      <td>Corporate Services</td>\n",
       "      <td>NaN</td>\n",
       "      <td>0.589474</td>\n",
       "      <td>0.591549</td>\n",
       "      <td>0.587413</td>\n",
       "      <td>143.0</td>\n",
       "      <td>Random Forest</td>\n",
       "    </tr>\n",
       "    <tr>\n",
       "      <th>0</th>\n",
       "      <td>Commercial Services &amp; Supplies</td>\n",
       "      <td>NaN</td>\n",
       "      <td>0.571429</td>\n",
       "      <td>0.601626</td>\n",
       "      <td>0.544118</td>\n",
       "      <td>136.0</td>\n",
       "      <td>Random Forest</td>\n",
       "    </tr>\n",
       "    <tr>\n",
       "      <th>2</th>\n",
       "      <td>Consumer Staples</td>\n",
       "      <td>NaN</td>\n",
       "      <td>0.515385</td>\n",
       "      <td>0.475177</td>\n",
       "      <td>0.563025</td>\n",
       "      <td>119.0</td>\n",
       "      <td>Random Forest</td>\n",
       "    </tr>\n",
       "    <tr>\n",
       "      <th>12</th>\n",
       "      <td>Transportation &amp; Logistics</td>\n",
       "      <td>NaN</td>\n",
       "      <td>0.447059</td>\n",
       "      <td>0.404255</td>\n",
       "      <td>0.500000</td>\n",
       "      <td>114.0</td>\n",
       "      <td>Random Forest</td>\n",
       "    </tr>\n",
       "    <tr>\n",
       "      <th>9</th>\n",
       "      <td>Materials</td>\n",
       "      <td>NaN</td>\n",
       "      <td>0.337349</td>\n",
       "      <td>0.451613</td>\n",
       "      <td>0.269231</td>\n",
       "      <td>52.0</td>\n",
       "      <td>Random Forest</td>\n",
       "    </tr>\n",
       "    <tr>\n",
       "      <th>7</th>\n",
       "      <td>Industrials</td>\n",
       "      <td>NaN</td>\n",
       "      <td>0.327869</td>\n",
       "      <td>0.444444</td>\n",
       "      <td>0.259740</td>\n",
       "      <td>77.0</td>\n",
       "      <td>Random Forest</td>\n",
       "    </tr>\n",
       "    <tr>\n",
       "      <th>1</th>\n",
       "      <td>Consumer Discretionary</td>\n",
       "      <td>NaN</td>\n",
       "      <td>0.307692</td>\n",
       "      <td>0.560000</td>\n",
       "      <td>0.212121</td>\n",
       "      <td>66.0</td>\n",
       "      <td>Random Forest</td>\n",
       "    </tr>\n",
       "    <tr>\n",
       "      <th>6</th>\n",
       "      <td>Healthcare</td>\n",
       "      <td>NaN</td>\n",
       "      <td>0.777108</td>\n",
       "      <td>0.708791</td>\n",
       "      <td>0.860000</td>\n",
       "      <td>150.0</td>\n",
       "      <td>Naive Bayes</td>\n",
       "    </tr>\n",
       "    <tr>\n",
       "      <th>5</th>\n",
       "      <td>Financials</td>\n",
       "      <td>NaN</td>\n",
       "      <td>0.756554</td>\n",
       "      <td>0.814516</td>\n",
       "      <td>0.706294</td>\n",
       "      <td>143.0</td>\n",
       "      <td>Naive Bayes</td>\n",
       "    </tr>\n",
       "    <tr>\n",
       "      <th>4</th>\n",
       "      <td>Energy &amp; Utilities</td>\n",
       "      <td>NaN</td>\n",
       "      <td>0.730435</td>\n",
       "      <td>0.750000</td>\n",
       "      <td>0.711864</td>\n",
       "      <td>118.0</td>\n",
       "      <td>Naive Bayes</td>\n",
       "    </tr>\n",
       "    <tr>\n",
       "      <th>11</th>\n",
       "      <td>Professional Services</td>\n",
       "      <td>NaN</td>\n",
       "      <td>0.719101</td>\n",
       "      <td>0.780488</td>\n",
       "      <td>0.666667</td>\n",
       "      <td>144.0</td>\n",
       "      <td>Naive Bayes</td>\n",
       "    </tr>\n",
       "    <tr>\n",
       "      <th>8</th>\n",
       "      <td>Information Technology</td>\n",
       "      <td>NaN</td>\n",
       "      <td>0.676364</td>\n",
       "      <td>0.600000</td>\n",
       "      <td>0.775000</td>\n",
       "      <td>120.0</td>\n",
       "      <td>Naive Bayes</td>\n",
       "    </tr>\n",
       "    <tr>\n",
       "      <th>10</th>\n",
       "      <td>Media, Marketing &amp; Sales</td>\n",
       "      <td>NaN</td>\n",
       "      <td>0.646154</td>\n",
       "      <td>0.591549</td>\n",
       "      <td>0.711864</td>\n",
       "      <td>118.0</td>\n",
       "      <td>Naive Bayes</td>\n",
       "    </tr>\n",
       "    <tr>\n",
       "      <th>3</th>\n",
       "      <td>Corporate Services</td>\n",
       "      <td>NaN</td>\n",
       "      <td>0.568750</td>\n",
       "      <td>0.514124</td>\n",
       "      <td>0.636364</td>\n",
       "      <td>143.0</td>\n",
       "      <td>Naive Bayes</td>\n",
       "    </tr>\n",
       "    <tr>\n",
       "      <th>0</th>\n",
       "      <td>Commercial Services &amp; Supplies</td>\n",
       "      <td>NaN</td>\n",
       "      <td>0.560606</td>\n",
       "      <td>0.578125</td>\n",
       "      <td>0.544118</td>\n",
       "      <td>136.0</td>\n",
       "      <td>Naive Bayes</td>\n",
       "    </tr>\n",
       "    <tr>\n",
       "      <th>2</th>\n",
       "      <td>Consumer Staples</td>\n",
       "      <td>NaN</td>\n",
       "      <td>0.553360</td>\n",
       "      <td>0.522388</td>\n",
       "      <td>0.588235</td>\n",
       "      <td>119.0</td>\n",
       "      <td>Naive Bayes</td>\n",
       "    </tr>\n",
       "    <tr>\n",
       "      <th>12</th>\n",
       "      <td>Transportation &amp; Logistics</td>\n",
       "      <td>NaN</td>\n",
       "      <td>0.496350</td>\n",
       "      <td>0.425000</td>\n",
       "      <td>0.596491</td>\n",
       "      <td>114.0</td>\n",
       "      <td>Naive Bayes</td>\n",
       "    </tr>\n",
       "    <tr>\n",
       "      <th>7</th>\n",
       "      <td>Industrials</td>\n",
       "      <td>NaN</td>\n",
       "      <td>0.396552</td>\n",
       "      <td>0.589744</td>\n",
       "      <td>0.298701</td>\n",
       "      <td>77.0</td>\n",
       "      <td>Naive Bayes</td>\n",
       "    </tr>\n",
       "    <tr>\n",
       "      <th>9</th>\n",
       "      <td>Materials</td>\n",
       "      <td>NaN</td>\n",
       "      <td>0.200000</td>\n",
       "      <td>0.388889</td>\n",
       "      <td>0.134615</td>\n",
       "      <td>52.0</td>\n",
       "      <td>Naive Bayes</td>\n",
       "    </tr>\n",
       "    <tr>\n",
       "      <th>1</th>\n",
       "      <td>Consumer Discretionary</td>\n",
       "      <td>NaN</td>\n",
       "      <td>0.111111</td>\n",
       "      <td>0.666667</td>\n",
       "      <td>0.060606</td>\n",
       "      <td>66.0</td>\n",
       "      <td>Naive Bayes</td>\n",
       "    </tr>\n",
       "    <tr>\n",
       "      <th>6</th>\n",
       "      <td>Healthcare</td>\n",
       "      <td>NaN</td>\n",
       "      <td>0.807692</td>\n",
       "      <td>0.777778</td>\n",
       "      <td>0.840000</td>\n",
       "      <td>150.0</td>\n",
       "      <td>Logistic Regression</td>\n",
       "    </tr>\n",
       "    <tr>\n",
       "      <th>5</th>\n",
       "      <td>Financials</td>\n",
       "      <td>NaN</td>\n",
       "      <td>0.733813</td>\n",
       "      <td>0.755556</td>\n",
       "      <td>0.713287</td>\n",
       "      <td>143.0</td>\n",
       "      <td>Logistic Regression</td>\n",
       "    </tr>\n",
       "    <tr>\n",
       "      <th>4</th>\n",
       "      <td>Energy &amp; Utilities</td>\n",
       "      <td>NaN</td>\n",
       "      <td>0.721739</td>\n",
       "      <td>0.741071</td>\n",
       "      <td>0.703390</td>\n",
       "      <td>118.0</td>\n",
       "      <td>Logistic Regression</td>\n",
       "    </tr>\n",
       "    <tr>\n",
       "      <th>11</th>\n",
       "      <td>Professional Services</td>\n",
       "      <td>NaN</td>\n",
       "      <td>0.716846</td>\n",
       "      <td>0.740741</td>\n",
       "      <td>0.694444</td>\n",
       "      <td>144.0</td>\n",
       "      <td>Logistic Regression</td>\n",
       "    </tr>\n",
       "    <tr>\n",
       "      <th>8</th>\n",
       "      <td>Information Technology</td>\n",
       "      <td>NaN</td>\n",
       "      <td>0.697674</td>\n",
       "      <td>0.652174</td>\n",
       "      <td>0.750000</td>\n",
       "      <td>120.0</td>\n",
       "      <td>Logistic Regression</td>\n",
       "    </tr>\n",
       "    <tr>\n",
       "      <th>10</th>\n",
       "      <td>Media, Marketing &amp; Sales</td>\n",
       "      <td>NaN</td>\n",
       "      <td>0.671587</td>\n",
       "      <td>0.594771</td>\n",
       "      <td>0.771186</td>\n",
       "      <td>118.0</td>\n",
       "      <td>Logistic Regression</td>\n",
       "    </tr>\n",
       "    <tr>\n",
       "      <th>0</th>\n",
       "      <td>Commercial Services &amp; Supplies</td>\n",
       "      <td>NaN</td>\n",
       "      <td>0.597701</td>\n",
       "      <td>0.624000</td>\n",
       "      <td>0.573529</td>\n",
       "      <td>136.0</td>\n",
       "      <td>Logistic Regression</td>\n",
       "    </tr>\n",
       "    <tr>\n",
       "      <th>3</th>\n",
       "      <td>Corporate Services</td>\n",
       "      <td>NaN</td>\n",
       "      <td>0.594771</td>\n",
       "      <td>0.558282</td>\n",
       "      <td>0.636364</td>\n",
       "      <td>143.0</td>\n",
       "      <td>Logistic Regression</td>\n",
       "    </tr>\n",
       "    <tr>\n",
       "      <th>2</th>\n",
       "      <td>Consumer Staples</td>\n",
       "      <td>NaN</td>\n",
       "      <td>0.526316</td>\n",
       "      <td>0.550459</td>\n",
       "      <td>0.504202</td>\n",
       "      <td>119.0</td>\n",
       "      <td>Logistic Regression</td>\n",
       "    </tr>\n",
       "    <tr>\n",
       "      <th>12</th>\n",
       "      <td>Transportation &amp; Logistics</td>\n",
       "      <td>NaN</td>\n",
       "      <td>0.456274</td>\n",
       "      <td>0.402685</td>\n",
       "      <td>0.526316</td>\n",
       "      <td>114.0</td>\n",
       "      <td>Logistic Regression</td>\n",
       "    </tr>\n",
       "    <tr>\n",
       "      <th>7</th>\n",
       "      <td>Industrials</td>\n",
       "      <td>NaN</td>\n",
       "      <td>0.373984</td>\n",
       "      <td>0.500000</td>\n",
       "      <td>0.298701</td>\n",
       "      <td>77.0</td>\n",
       "      <td>Logistic Regression</td>\n",
       "    </tr>\n",
       "    <tr>\n",
       "      <th>1</th>\n",
       "      <td>Consumer Discretionary</td>\n",
       "      <td>NaN</td>\n",
       "      <td>0.344086</td>\n",
       "      <td>0.592593</td>\n",
       "      <td>0.242424</td>\n",
       "      <td>66.0</td>\n",
       "      <td>Logistic Regression</td>\n",
       "    </tr>\n",
       "    <tr>\n",
       "      <th>9</th>\n",
       "      <td>Materials</td>\n",
       "      <td>NaN</td>\n",
       "      <td>0.285714</td>\n",
       "      <td>0.304348</td>\n",
       "      <td>0.269231</td>\n",
       "      <td>52.0</td>\n",
       "      <td>Logistic Regression</td>\n",
       "    </tr>\n",
       "  </tbody>\n",
       "</table>\n",
       "</div>"
      ],
      "text/plain": [
       "                          Category   0  f1-score  precision    recall  \\\n",
       "6                       Healthcare NaN  0.785047   0.736842  0.840000   \n",
       "5                       Financials NaN  0.754579   0.792308  0.720280   \n",
       "4               Energy & Utilities NaN  0.745763   0.745763  0.745763   \n",
       "11           Professional Services NaN  0.723247   0.771654  0.680556   \n",
       "8           Information Technology NaN  0.707692   0.657143  0.766667   \n",
       "10        Media, Marketing & Sales NaN  0.639175   0.537572  0.788136   \n",
       "0   Commercial Services & Supplies NaN  0.577075   0.623932  0.536765   \n",
       "3               Corporate Services NaN  0.561151   0.577778  0.545455   \n",
       "2                 Consumer Staples NaN  0.485106   0.491379  0.478992   \n",
       "12      Transportation & Logistics NaN  0.446097   0.387097  0.526316   \n",
       "7                      Industrials NaN  0.400000   0.426471  0.376623   \n",
       "1           Consumer Discretionary NaN  0.264151   0.350000  0.212121   \n",
       "9                        Materials NaN  0.096774   0.300000  0.057692   \n",
       "6                       Healthcare NaN  0.825397   0.787879  0.866667   \n",
       "5                       Financials NaN  0.743056   0.737931  0.748252   \n",
       "11           Professional Services NaN  0.734082   0.796748  0.680556   \n",
       "4               Energy & Utilities NaN  0.707819   0.688000  0.728814   \n",
       "8           Information Technology NaN  0.681319   0.607843  0.775000   \n",
       "10        Media, Marketing & Sales NaN  0.656371   0.602837  0.720339   \n",
       "3               Corporate Services NaN  0.589474   0.591549  0.587413   \n",
       "0   Commercial Services & Supplies NaN  0.571429   0.601626  0.544118   \n",
       "2                 Consumer Staples NaN  0.515385   0.475177  0.563025   \n",
       "12      Transportation & Logistics NaN  0.447059   0.404255  0.500000   \n",
       "9                        Materials NaN  0.337349   0.451613  0.269231   \n",
       "7                      Industrials NaN  0.327869   0.444444  0.259740   \n",
       "1           Consumer Discretionary NaN  0.307692   0.560000  0.212121   \n",
       "6                       Healthcare NaN  0.777108   0.708791  0.860000   \n",
       "5                       Financials NaN  0.756554   0.814516  0.706294   \n",
       "4               Energy & Utilities NaN  0.730435   0.750000  0.711864   \n",
       "11           Professional Services NaN  0.719101   0.780488  0.666667   \n",
       "8           Information Technology NaN  0.676364   0.600000  0.775000   \n",
       "10        Media, Marketing & Sales NaN  0.646154   0.591549  0.711864   \n",
       "3               Corporate Services NaN  0.568750   0.514124  0.636364   \n",
       "0   Commercial Services & Supplies NaN  0.560606   0.578125  0.544118   \n",
       "2                 Consumer Staples NaN  0.553360   0.522388  0.588235   \n",
       "12      Transportation & Logistics NaN  0.496350   0.425000  0.596491   \n",
       "7                      Industrials NaN  0.396552   0.589744  0.298701   \n",
       "9                        Materials NaN  0.200000   0.388889  0.134615   \n",
       "1           Consumer Discretionary NaN  0.111111   0.666667  0.060606   \n",
       "6                       Healthcare NaN  0.807692   0.777778  0.840000   \n",
       "5                       Financials NaN  0.733813   0.755556  0.713287   \n",
       "4               Energy & Utilities NaN  0.721739   0.741071  0.703390   \n",
       "11           Professional Services NaN  0.716846   0.740741  0.694444   \n",
       "8           Information Technology NaN  0.697674   0.652174  0.750000   \n",
       "10        Media, Marketing & Sales NaN  0.671587   0.594771  0.771186   \n",
       "0   Commercial Services & Supplies NaN  0.597701   0.624000  0.573529   \n",
       "3               Corporate Services NaN  0.594771   0.558282  0.636364   \n",
       "2                 Consumer Staples NaN  0.526316   0.550459  0.504202   \n",
       "12      Transportation & Logistics NaN  0.456274   0.402685  0.526316   \n",
       "7                      Industrials NaN  0.373984   0.500000  0.298701   \n",
       "1           Consumer Discretionary NaN  0.344086   0.592593  0.242424   \n",
       "9                        Materials NaN  0.285714   0.304348  0.269231   \n",
       "\n",
       "    support                model  \n",
       "6     150.0       SGD Classifier  \n",
       "5     143.0       SGD Classifier  \n",
       "4     118.0       SGD Classifier  \n",
       "11    144.0       SGD Classifier  \n",
       "8     120.0       SGD Classifier  \n",
       "10    118.0       SGD Classifier  \n",
       "0     136.0       SGD Classifier  \n",
       "3     143.0       SGD Classifier  \n",
       "2     119.0       SGD Classifier  \n",
       "12    114.0       SGD Classifier  \n",
       "7      77.0       SGD Classifier  \n",
       "1      66.0       SGD Classifier  \n",
       "9      52.0       SGD Classifier  \n",
       "6     150.0        Random Forest  \n",
       "5     143.0        Random Forest  \n",
       "11    144.0        Random Forest  \n",
       "4     118.0        Random Forest  \n",
       "8     120.0        Random Forest  \n",
       "10    118.0        Random Forest  \n",
       "3     143.0        Random Forest  \n",
       "0     136.0        Random Forest  \n",
       "2     119.0        Random Forest  \n",
       "12    114.0        Random Forest  \n",
       "9      52.0        Random Forest  \n",
       "7      77.0        Random Forest  \n",
       "1      66.0        Random Forest  \n",
       "6     150.0          Naive Bayes  \n",
       "5     143.0          Naive Bayes  \n",
       "4     118.0          Naive Bayes  \n",
       "11    144.0          Naive Bayes  \n",
       "8     120.0          Naive Bayes  \n",
       "10    118.0          Naive Bayes  \n",
       "3     143.0          Naive Bayes  \n",
       "0     136.0          Naive Bayes  \n",
       "2     119.0          Naive Bayes  \n",
       "12    114.0          Naive Bayes  \n",
       "7      77.0          Naive Bayes  \n",
       "9      52.0          Naive Bayes  \n",
       "1      66.0          Naive Bayes  \n",
       "6     150.0  Logistic Regression  \n",
       "5     143.0  Logistic Regression  \n",
       "4     118.0  Logistic Regression  \n",
       "11    144.0  Logistic Regression  \n",
       "8     120.0  Logistic Regression  \n",
       "10    118.0  Logistic Regression  \n",
       "0     136.0  Logistic Regression  \n",
       "3     143.0  Logistic Regression  \n",
       "2     119.0  Logistic Regression  \n",
       "12    114.0  Logistic Regression  \n",
       "7      77.0  Logistic Regression  \n",
       "1      66.0  Logistic Regression  \n",
       "9      52.0  Logistic Regression  "
      ]
     },
     "execution_count": 66,
     "metadata": {},
     "output_type": "execute_result"
    }
   ],
   "source": [
    "tfidf_df = pd.concat(tf_report_list)\n",
    "tfidf_df.sort_values(by=['model','f1-score'], ascending=False)"
   ]
  },
  {
   "cell_type": "markdown",
   "metadata": {},
   "source": [
    "# TF-IDF Results\n",
    "The best performing model is the multiclass logistic regression. \n",
    "\n",
    "Looking into the performance for categories, we see that the top three predictions for all models are:\n",
    "1. Healthcare\n",
    "2. Financials\n",
    "3. Energy & Utilies\n",
    "\n",
    "The accuracy for other classes begins to drop quickly with the worst predictors coming from businesses in\n",
    "Industrials, Consumer Discretionary and Materials.\n",
    "\n",
    "This modeling exercise is based on the hypothesis that websites within each business category will be distinct\n",
    "enough to identify their characteristics. This clearly works for some like the top 3 categories but the language\n",
    "and industries represented in the other categories is not as distinct. \n",
    "\n",
    "Next steps:\n",
    "1. Increase datasize (but need more memory to process)\n",
    "2. Test out different models and hyperparameter tuning\n",
    "3. Try category specific models (e.g. one model for healthcare, one model for IT)\n",
    "4. Return to text normalization and see if any important information was accidentally removed. \n"
   ]
  },
  {
   "cell_type": "code",
   "execution_count": 94,
   "metadata": {},
   "outputs": [
    {
     "name": "stdout",
     "output_type": "stream",
     "text": [
      "Skipping Naive Bayes as it is not compatible with BERT embeddings.\n",
      "\n",
      "=== Logistic Regression ===\n"
     ]
    },
    {
     "name": "stderr",
     "output_type": "stream",
     "text": [
      "<ipython-input-94-8061c597aae9>:33: SettingWithCopyWarning:\n",
      "\n",
      "\n",
      "A value is trying to be set on a copy of a slice from a DataFrame.\n",
      "Try using .loc[row_indexer,col_indexer] = value instead\n",
      "\n",
      "See the caveats in the documentation: https://pandas.pydata.org/pandas-docs/stable/user_guide/indexing.html#returning-a-view-versus-a-copy\n",
      "\n"
     ]
    },
    {
     "name": "stdout",
     "output_type": "stream",
     "text": [
      "\n",
      "=== SGD Classifier ===\n"
     ]
    },
    {
     "name": "stderr",
     "output_type": "stream",
     "text": [
      "<ipython-input-94-8061c597aae9>:33: SettingWithCopyWarning:\n",
      "\n",
      "\n",
      "A value is trying to be set on a copy of a slice from a DataFrame.\n",
      "Try using .loc[row_indexer,col_indexer] = value instead\n",
      "\n",
      "See the caveats in the documentation: https://pandas.pydata.org/pandas-docs/stable/user_guide/indexing.html#returning-a-view-versus-a-copy\n",
      "\n"
     ]
    },
    {
     "name": "stdout",
     "output_type": "stream",
     "text": [
      "\n",
      "=== Random Forest ===\n",
      "BERT Results:\n",
      "                 Model  Cross_Val_Accuracy  Test_Accuracy  Precision  \\\n",
      "0  Logistic Regression            0.770000       0.810667   0.811114   \n",
      "1       SGD Classifier            0.700000       0.753333   0.788897   \n",
      "2        Random Forest            0.637714       0.662667   0.675663   \n",
      "\n",
      "     Recall  F1-Score  \n",
      "0  0.810667  0.809744  \n",
      "1  0.753333  0.756673  \n",
      "2  0.662667  0.653985  \n"
     ]
    },
    {
     "name": "stderr",
     "output_type": "stream",
     "text": [
      "<ipython-input-94-8061c597aae9>:33: SettingWithCopyWarning:\n",
      "\n",
      "\n",
      "A value is trying to be set on a copy of a slice from a DataFrame.\n",
      "Try using .loc[row_indexer,col_indexer] = value instead\n",
      "\n",
      "See the caveats in the documentation: https://pandas.pydata.org/pandas-docs/stable/user_guide/indexing.html#returning-a-view-versus-a-copy\n",
      "\n"
     ]
    }
   ],
   "source": [
    "# Store BERT results\n",
    "bert_results = []\n",
    "bert_report_list=[]\n",
    "\n",
    "# Iterate over models using the precomputed BERT embeddings\n",
    "for model_name, model in models.items():\n",
    "    if isinstance(model, MultinomialNB): # MultinomialNB requires non-negative input values but embeddings can include negative values\n",
    "        print(f\"Skipping {model_name} as it is not compatible with BERT embeddings.\")\n",
    "        continue\n",
    "    \n",
    "    print(f\"\\n=== {model_name} ===\")\n",
    "    \n",
    "    # Train the model using precomputed BERT embeddings\n",
    "    model.fit(X_train_embeddings2, y_train)\n",
    "    y_pred_bert = model.predict(X_test_embeddings2)\n",
    "    \n",
    "    # Cross-Validation with precomputed BERT embeddings\n",
    "    bert_scores = cross_val_score(model, X_train_embeddings2, y_train, cv=kf, scoring='accuracy')\n",
    "    \n",
    "    # Calculate accuracy and classification report\n",
    "    bert_accuracy = accuracy_score(y_test, y_pred_bert)\n",
    "    bert_report = classification_report(y_test, y_pred_bert, target_names=label_encoder.classes_, output_dict=True)\n",
    "\n",
    "\n",
    "    bert_df = pd.DataFrame([bert_report]).T\n",
    "    bert_df = bert_df.reset_index().rename(columns={'index':'Category'})\n",
    "    bert_df_report = bert_df[0].apply(pd.Series)\n",
    "\n",
    "    bert_final = pd.merge(bert_df['Category'], bert_df_report, left_index=True,right_index=True)\n",
    "\n",
    "    # filter dataframe                                   \n",
    "    bert_clean = bert_final.loc[(bert_final['Category']!='weighted avg') & (bert_final['Category']!='macro avg') & (bert_final['Category']!='accuracy')]\n",
    "    bert_clean['model']=model_name\n",
    "    bert_report_list.append(bert_clean)\n",
    "    \n",
    "    # Append BERT results to the results list\n",
    "    bert_results.append({\n",
    "        'Model': model_name,\n",
    "        'Cross_Val_Accuracy': bert_scores.mean(),\n",
    "        'Test_Accuracy': bert_accuracy,\n",
    "        'Precision': bert_report['weighted avg']['precision'],\n",
    "        'Recall': bert_report['weighted avg']['recall'],\n",
    "        'F1-Score': bert_report['weighted avg']['f1-score']\n",
    "    })\n",
    "\n",
    "# Convert BERT results to DataFrame\n",
    "bert_results_df = pd.DataFrame(bert_results)\n",
    "print(\"BERT Results:\")\n",
    "print(bert_results_df)\n"
   ]
  },
  {
   "cell_type": "code",
   "execution_count": 87,
   "metadata": {},
   "outputs": [
    {
     "data": {
      "text/html": [
       "<div>\n",
       "<style scoped>\n",
       "    .dataframe tbody tr th:only-of-type {\n",
       "        vertical-align: middle;\n",
       "    }\n",
       "\n",
       "    .dataframe tbody tr th {\n",
       "        vertical-align: top;\n",
       "    }\n",
       "\n",
       "    .dataframe thead th {\n",
       "        text-align: right;\n",
       "    }\n",
       "</style>\n",
       "<table border=\"1\" class=\"dataframe\">\n",
       "  <thead>\n",
       "    <tr style=\"text-align: right;\">\n",
       "      <th></th>\n",
       "      <th>Model</th>\n",
       "      <th>Cross_Val_Accuracy</th>\n",
       "      <th>Test_Accuracy</th>\n",
       "      <th>Precision</th>\n",
       "      <th>Recall</th>\n",
       "      <th>F1-Score</th>\n",
       "    </tr>\n",
       "  </thead>\n",
       "  <tbody>\n",
       "    <tr>\n",
       "      <th>0</th>\n",
       "      <td>Logistic Regression</td>\n",
       "      <td>0.770000</td>\n",
       "      <td>0.810667</td>\n",
       "      <td>0.811114</td>\n",
       "      <td>0.810667</td>\n",
       "      <td>0.809744</td>\n",
       "    </tr>\n",
       "    <tr>\n",
       "      <th>1</th>\n",
       "      <td>SGD Classifier</td>\n",
       "      <td>0.721429</td>\n",
       "      <td>0.704000</td>\n",
       "      <td>0.775288</td>\n",
       "      <td>0.704000</td>\n",
       "      <td>0.698077</td>\n",
       "    </tr>\n",
       "    <tr>\n",
       "      <th>2</th>\n",
       "      <td>Random Forest</td>\n",
       "      <td>0.644000</td>\n",
       "      <td>0.670667</td>\n",
       "      <td>0.674981</td>\n",
       "      <td>0.670667</td>\n",
       "      <td>0.661995</td>\n",
       "    </tr>\n",
       "  </tbody>\n",
       "</table>\n",
       "</div>"
      ],
      "text/plain": [
       "                 Model  Cross_Val_Accuracy  Test_Accuracy  Precision  \\\n",
       "0  Logistic Regression            0.770000       0.810667   0.811114   \n",
       "1       SGD Classifier            0.721429       0.704000   0.775288   \n",
       "2        Random Forest            0.644000       0.670667   0.674981   \n",
       "\n",
       "     Recall  F1-Score  \n",
       "0  0.810667  0.809744  \n",
       "1  0.704000  0.698077  \n",
       "2  0.670667  0.661995  "
      ]
     },
     "execution_count": 87,
     "metadata": {},
     "output_type": "execute_result"
    }
   ],
   "source": [
    "bert_results_df"
   ]
  },
  {
   "cell_type": "code",
   "execution_count": 88,
   "metadata": {},
   "outputs": [
    {
     "data": {
      "text/html": [
       "<div>\n",
       "<style scoped>\n",
       "    .dataframe tbody tr th:only-of-type {\n",
       "        vertical-align: middle;\n",
       "    }\n",
       "\n",
       "    .dataframe tbody tr th {\n",
       "        vertical-align: top;\n",
       "    }\n",
       "\n",
       "    .dataframe thead th {\n",
       "        text-align: right;\n",
       "    }\n",
       "</style>\n",
       "<table border=\"1\" class=\"dataframe\">\n",
       "  <thead>\n",
       "    <tr style=\"text-align: right;\">\n",
       "      <th></th>\n",
       "      <th>Category</th>\n",
       "      <th>0</th>\n",
       "      <th>f1-score</th>\n",
       "      <th>precision</th>\n",
       "      <th>recall</th>\n",
       "      <th>support</th>\n",
       "      <th>model</th>\n",
       "    </tr>\n",
       "  </thead>\n",
       "  <tbody>\n",
       "    <tr>\n",
       "      <th>6</th>\n",
       "      <td>Healthcare</td>\n",
       "      <td>NaN</td>\n",
       "      <td>0.897690</td>\n",
       "      <td>0.888889</td>\n",
       "      <td>0.906667</td>\n",
       "      <td>150.0</td>\n",
       "      <td>SGD Classifier</td>\n",
       "    </tr>\n",
       "    <tr>\n",
       "      <th>12</th>\n",
       "      <td>Transportation &amp; Logistics</td>\n",
       "      <td>NaN</td>\n",
       "      <td>0.768116</td>\n",
       "      <td>0.654321</td>\n",
       "      <td>0.929825</td>\n",
       "      <td>114.0</td>\n",
       "      <td>SGD Classifier</td>\n",
       "    </tr>\n",
       "    <tr>\n",
       "      <th>11</th>\n",
       "      <td>Professional Services</td>\n",
       "      <td>NaN</td>\n",
       "      <td>0.727869</td>\n",
       "      <td>0.689441</td>\n",
       "      <td>0.770833</td>\n",
       "      <td>144.0</td>\n",
       "      <td>SGD Classifier</td>\n",
       "    </tr>\n",
       "    <tr>\n",
       "      <th>3</th>\n",
       "      <td>Corporate Services</td>\n",
       "      <td>NaN</td>\n",
       "      <td>0.722689</td>\n",
       "      <td>0.905263</td>\n",
       "      <td>0.601399</td>\n",
       "      <td>143.0</td>\n",
       "      <td>SGD Classifier</td>\n",
       "    </tr>\n",
       "    <tr>\n",
       "      <th>2</th>\n",
       "      <td>Consumer Staples</td>\n",
       "      <td>NaN</td>\n",
       "      <td>0.716129</td>\n",
       "      <td>0.581152</td>\n",
       "      <td>0.932773</td>\n",
       "      <td>119.0</td>\n",
       "      <td>SGD Classifier</td>\n",
       "    </tr>\n",
       "    <tr>\n",
       "      <th>4</th>\n",
       "      <td>Energy &amp; Utilities</td>\n",
       "      <td>NaN</td>\n",
       "      <td>0.715867</td>\n",
       "      <td>0.633987</td>\n",
       "      <td>0.822034</td>\n",
       "      <td>118.0</td>\n",
       "      <td>SGD Classifier</td>\n",
       "    </tr>\n",
       "    <tr>\n",
       "      <th>10</th>\n",
       "      <td>Media, Marketing &amp; Sales</td>\n",
       "      <td>NaN</td>\n",
       "      <td>0.712766</td>\n",
       "      <td>0.957143</td>\n",
       "      <td>0.567797</td>\n",
       "      <td>118.0</td>\n",
       "      <td>SGD Classifier</td>\n",
       "    </tr>\n",
       "    <tr>\n",
       "      <th>5</th>\n",
       "      <td>Financials</td>\n",
       "      <td>NaN</td>\n",
       "      <td>0.690583</td>\n",
       "      <td>0.962500</td>\n",
       "      <td>0.538462</td>\n",
       "      <td>143.0</td>\n",
       "      <td>SGD Classifier</td>\n",
       "    </tr>\n",
       "    <tr>\n",
       "      <th>8</th>\n",
       "      <td>Information Technology</td>\n",
       "      <td>NaN</td>\n",
       "      <td>0.645963</td>\n",
       "      <td>0.514851</td>\n",
       "      <td>0.866667</td>\n",
       "      <td>120.0</td>\n",
       "      <td>SGD Classifier</td>\n",
       "    </tr>\n",
       "    <tr>\n",
       "      <th>9</th>\n",
       "      <td>Materials</td>\n",
       "      <td>NaN</td>\n",
       "      <td>0.601307</td>\n",
       "      <td>0.455446</td>\n",
       "      <td>0.884615</td>\n",
       "      <td>52.0</td>\n",
       "      <td>SGD Classifier</td>\n",
       "    </tr>\n",
       "    <tr>\n",
       "      <th>1</th>\n",
       "      <td>Consumer Discretionary</td>\n",
       "      <td>NaN</td>\n",
       "      <td>0.590476</td>\n",
       "      <td>0.794872</td>\n",
       "      <td>0.469697</td>\n",
       "      <td>66.0</td>\n",
       "      <td>SGD Classifier</td>\n",
       "    </tr>\n",
       "    <tr>\n",
       "      <th>0</th>\n",
       "      <td>Commercial Services &amp; Supplies</td>\n",
       "      <td>NaN</td>\n",
       "      <td>0.581281</td>\n",
       "      <td>0.880597</td>\n",
       "      <td>0.433824</td>\n",
       "      <td>136.0</td>\n",
       "      <td>SGD Classifier</td>\n",
       "    </tr>\n",
       "    <tr>\n",
       "      <th>7</th>\n",
       "      <td>Industrials</td>\n",
       "      <td>NaN</td>\n",
       "      <td>0.485437</td>\n",
       "      <td>0.961538</td>\n",
       "      <td>0.324675</td>\n",
       "      <td>77.0</td>\n",
       "      <td>SGD Classifier</td>\n",
       "    </tr>\n",
       "    <tr>\n",
       "      <th>6</th>\n",
       "      <td>Healthcare</td>\n",
       "      <td>NaN</td>\n",
       "      <td>0.830671</td>\n",
       "      <td>0.797546</td>\n",
       "      <td>0.866667</td>\n",
       "      <td>150.0</td>\n",
       "      <td>Random Forest</td>\n",
       "    </tr>\n",
       "    <tr>\n",
       "      <th>5</th>\n",
       "      <td>Financials</td>\n",
       "      <td>NaN</td>\n",
       "      <td>0.728477</td>\n",
       "      <td>0.691824</td>\n",
       "      <td>0.769231</td>\n",
       "      <td>143.0</td>\n",
       "      <td>Random Forest</td>\n",
       "    </tr>\n",
       "    <tr>\n",
       "      <th>2</th>\n",
       "      <td>Consumer Staples</td>\n",
       "      <td>NaN</td>\n",
       "      <td>0.725000</td>\n",
       "      <td>0.719008</td>\n",
       "      <td>0.731092</td>\n",
       "      <td>119.0</td>\n",
       "      <td>Random Forest</td>\n",
       "    </tr>\n",
       "    <tr>\n",
       "      <th>10</th>\n",
       "      <td>Media, Marketing &amp; Sales</td>\n",
       "      <td>NaN</td>\n",
       "      <td>0.716418</td>\n",
       "      <td>0.640000</td>\n",
       "      <td>0.813559</td>\n",
       "      <td>118.0</td>\n",
       "      <td>Random Forest</td>\n",
       "    </tr>\n",
       "    <tr>\n",
       "      <th>8</th>\n",
       "      <td>Information Technology</td>\n",
       "      <td>NaN</td>\n",
       "      <td>0.684615</td>\n",
       "      <td>0.635714</td>\n",
       "      <td>0.741667</td>\n",
       "      <td>120.0</td>\n",
       "      <td>Random Forest</td>\n",
       "    </tr>\n",
       "    <tr>\n",
       "      <th>12</th>\n",
       "      <td>Transportation &amp; Logistics</td>\n",
       "      <td>NaN</td>\n",
       "      <td>0.660550</td>\n",
       "      <td>0.692308</td>\n",
       "      <td>0.631579</td>\n",
       "      <td>114.0</td>\n",
       "      <td>Random Forest</td>\n",
       "    </tr>\n",
       "    <tr>\n",
       "      <th>4</th>\n",
       "      <td>Energy &amp; Utilities</td>\n",
       "      <td>NaN</td>\n",
       "      <td>0.649573</td>\n",
       "      <td>0.655172</td>\n",
       "      <td>0.644068</td>\n",
       "      <td>118.0</td>\n",
       "      <td>Random Forest</td>\n",
       "    </tr>\n",
       "    <tr>\n",
       "      <th>11</th>\n",
       "      <td>Professional Services</td>\n",
       "      <td>NaN</td>\n",
       "      <td>0.648464</td>\n",
       "      <td>0.637584</td>\n",
       "      <td>0.659722</td>\n",
       "      <td>144.0</td>\n",
       "      <td>Random Forest</td>\n",
       "    </tr>\n",
       "    <tr>\n",
       "      <th>3</th>\n",
       "      <td>Corporate Services</td>\n",
       "      <td>NaN</td>\n",
       "      <td>0.641892</td>\n",
       "      <td>0.620915</td>\n",
       "      <td>0.664336</td>\n",
       "      <td>143.0</td>\n",
       "      <td>Random Forest</td>\n",
       "    </tr>\n",
       "    <tr>\n",
       "      <th>0</th>\n",
       "      <td>Commercial Services &amp; Supplies</td>\n",
       "      <td>NaN</td>\n",
       "      <td>0.614286</td>\n",
       "      <td>0.597222</td>\n",
       "      <td>0.632353</td>\n",
       "      <td>136.0</td>\n",
       "      <td>Random Forest</td>\n",
       "    </tr>\n",
       "    <tr>\n",
       "      <th>7</th>\n",
       "      <td>Industrials</td>\n",
       "      <td>NaN</td>\n",
       "      <td>0.552239</td>\n",
       "      <td>0.649123</td>\n",
       "      <td>0.480519</td>\n",
       "      <td>77.0</td>\n",
       "      <td>Random Forest</td>\n",
       "    </tr>\n",
       "    <tr>\n",
       "      <th>9</th>\n",
       "      <td>Materials</td>\n",
       "      <td>NaN</td>\n",
       "      <td>0.416667</td>\n",
       "      <td>0.750000</td>\n",
       "      <td>0.288462</td>\n",
       "      <td>52.0</td>\n",
       "      <td>Random Forest</td>\n",
       "    </tr>\n",
       "    <tr>\n",
       "      <th>1</th>\n",
       "      <td>Consumer Discretionary</td>\n",
       "      <td>NaN</td>\n",
       "      <td>0.400000</td>\n",
       "      <td>0.750000</td>\n",
       "      <td>0.272727</td>\n",
       "      <td>66.0</td>\n",
       "      <td>Random Forest</td>\n",
       "    </tr>\n",
       "    <tr>\n",
       "      <th>6</th>\n",
       "      <td>Healthcare</td>\n",
       "      <td>NaN</td>\n",
       "      <td>0.900662</td>\n",
       "      <td>0.894737</td>\n",
       "      <td>0.906667</td>\n",
       "      <td>150.0</td>\n",
       "      <td>Logistic Regression</td>\n",
       "    </tr>\n",
       "    <tr>\n",
       "      <th>12</th>\n",
       "      <td>Transportation &amp; Logistics</td>\n",
       "      <td>NaN</td>\n",
       "      <td>0.874459</td>\n",
       "      <td>0.863248</td>\n",
       "      <td>0.885965</td>\n",
       "      <td>114.0</td>\n",
       "      <td>Logistic Regression</td>\n",
       "    </tr>\n",
       "    <tr>\n",
       "      <th>2</th>\n",
       "      <td>Consumer Staples</td>\n",
       "      <td>NaN</td>\n",
       "      <td>0.836820</td>\n",
       "      <td>0.833333</td>\n",
       "      <td>0.840336</td>\n",
       "      <td>119.0</td>\n",
       "      <td>Logistic Regression</td>\n",
       "    </tr>\n",
       "    <tr>\n",
       "      <th>4</th>\n",
       "      <td>Energy &amp; Utilities</td>\n",
       "      <td>NaN</td>\n",
       "      <td>0.834008</td>\n",
       "      <td>0.798450</td>\n",
       "      <td>0.872881</td>\n",
       "      <td>118.0</td>\n",
       "      <td>Logistic Regression</td>\n",
       "    </tr>\n",
       "    <tr>\n",
       "      <th>10</th>\n",
       "      <td>Media, Marketing &amp; Sales</td>\n",
       "      <td>NaN</td>\n",
       "      <td>0.819672</td>\n",
       "      <td>0.793651</td>\n",
       "      <td>0.847458</td>\n",
       "      <td>118.0</td>\n",
       "      <td>Logistic Regression</td>\n",
       "    </tr>\n",
       "    <tr>\n",
       "      <th>5</th>\n",
       "      <td>Financials</td>\n",
       "      <td>NaN</td>\n",
       "      <td>0.816609</td>\n",
       "      <td>0.808219</td>\n",
       "      <td>0.825175</td>\n",
       "      <td>143.0</td>\n",
       "      <td>Logistic Regression</td>\n",
       "    </tr>\n",
       "    <tr>\n",
       "      <th>3</th>\n",
       "      <td>Corporate Services</td>\n",
       "      <td>NaN</td>\n",
       "      <td>0.802817</td>\n",
       "      <td>0.808511</td>\n",
       "      <td>0.797203</td>\n",
       "      <td>143.0</td>\n",
       "      <td>Logistic Regression</td>\n",
       "    </tr>\n",
       "    <tr>\n",
       "      <th>9</th>\n",
       "      <td>Materials</td>\n",
       "      <td>NaN</td>\n",
       "      <td>0.796296</td>\n",
       "      <td>0.767857</td>\n",
       "      <td>0.826923</td>\n",
       "      <td>52.0</td>\n",
       "      <td>Logistic Regression</td>\n",
       "    </tr>\n",
       "    <tr>\n",
       "      <th>7</th>\n",
       "      <td>Industrials</td>\n",
       "      <td>NaN</td>\n",
       "      <td>0.771429</td>\n",
       "      <td>0.857143</td>\n",
       "      <td>0.701299</td>\n",
       "      <td>77.0</td>\n",
       "      <td>Logistic Regression</td>\n",
       "    </tr>\n",
       "    <tr>\n",
       "      <th>8</th>\n",
       "      <td>Information Technology</td>\n",
       "      <td>NaN</td>\n",
       "      <td>0.770492</td>\n",
       "      <td>0.758065</td>\n",
       "      <td>0.783333</td>\n",
       "      <td>120.0</td>\n",
       "      <td>Logistic Regression</td>\n",
       "    </tr>\n",
       "    <tr>\n",
       "      <th>11</th>\n",
       "      <td>Professional Services</td>\n",
       "      <td>NaN</td>\n",
       "      <td>0.764912</td>\n",
       "      <td>0.773050</td>\n",
       "      <td>0.756944</td>\n",
       "      <td>144.0</td>\n",
       "      <td>Logistic Regression</td>\n",
       "    </tr>\n",
       "    <tr>\n",
       "      <th>0</th>\n",
       "      <td>Commercial Services &amp; Supplies</td>\n",
       "      <td>NaN</td>\n",
       "      <td>0.758364</td>\n",
       "      <td>0.766917</td>\n",
       "      <td>0.750000</td>\n",
       "      <td>136.0</td>\n",
       "      <td>Logistic Regression</td>\n",
       "    </tr>\n",
       "    <tr>\n",
       "      <th>1</th>\n",
       "      <td>Consumer Discretionary</td>\n",
       "      <td>NaN</td>\n",
       "      <td>0.711864</td>\n",
       "      <td>0.807692</td>\n",
       "      <td>0.636364</td>\n",
       "      <td>66.0</td>\n",
       "      <td>Logistic Regression</td>\n",
       "    </tr>\n",
       "  </tbody>\n",
       "</table>\n",
       "</div>"
      ],
      "text/plain": [
       "                          Category   0  f1-score  precision    recall  \\\n",
       "6                       Healthcare NaN  0.897690   0.888889  0.906667   \n",
       "12      Transportation & Logistics NaN  0.768116   0.654321  0.929825   \n",
       "11           Professional Services NaN  0.727869   0.689441  0.770833   \n",
       "3               Corporate Services NaN  0.722689   0.905263  0.601399   \n",
       "2                 Consumer Staples NaN  0.716129   0.581152  0.932773   \n",
       "4               Energy & Utilities NaN  0.715867   0.633987  0.822034   \n",
       "10        Media, Marketing & Sales NaN  0.712766   0.957143  0.567797   \n",
       "5                       Financials NaN  0.690583   0.962500  0.538462   \n",
       "8           Information Technology NaN  0.645963   0.514851  0.866667   \n",
       "9                        Materials NaN  0.601307   0.455446  0.884615   \n",
       "1           Consumer Discretionary NaN  0.590476   0.794872  0.469697   \n",
       "0   Commercial Services & Supplies NaN  0.581281   0.880597  0.433824   \n",
       "7                      Industrials NaN  0.485437   0.961538  0.324675   \n",
       "6                       Healthcare NaN  0.830671   0.797546  0.866667   \n",
       "5                       Financials NaN  0.728477   0.691824  0.769231   \n",
       "2                 Consumer Staples NaN  0.725000   0.719008  0.731092   \n",
       "10        Media, Marketing & Sales NaN  0.716418   0.640000  0.813559   \n",
       "8           Information Technology NaN  0.684615   0.635714  0.741667   \n",
       "12      Transportation & Logistics NaN  0.660550   0.692308  0.631579   \n",
       "4               Energy & Utilities NaN  0.649573   0.655172  0.644068   \n",
       "11           Professional Services NaN  0.648464   0.637584  0.659722   \n",
       "3               Corporate Services NaN  0.641892   0.620915  0.664336   \n",
       "0   Commercial Services & Supplies NaN  0.614286   0.597222  0.632353   \n",
       "7                      Industrials NaN  0.552239   0.649123  0.480519   \n",
       "9                        Materials NaN  0.416667   0.750000  0.288462   \n",
       "1           Consumer Discretionary NaN  0.400000   0.750000  0.272727   \n",
       "6                       Healthcare NaN  0.900662   0.894737  0.906667   \n",
       "12      Transportation & Logistics NaN  0.874459   0.863248  0.885965   \n",
       "2                 Consumer Staples NaN  0.836820   0.833333  0.840336   \n",
       "4               Energy & Utilities NaN  0.834008   0.798450  0.872881   \n",
       "10        Media, Marketing & Sales NaN  0.819672   0.793651  0.847458   \n",
       "5                       Financials NaN  0.816609   0.808219  0.825175   \n",
       "3               Corporate Services NaN  0.802817   0.808511  0.797203   \n",
       "9                        Materials NaN  0.796296   0.767857  0.826923   \n",
       "7                      Industrials NaN  0.771429   0.857143  0.701299   \n",
       "8           Information Technology NaN  0.770492   0.758065  0.783333   \n",
       "11           Professional Services NaN  0.764912   0.773050  0.756944   \n",
       "0   Commercial Services & Supplies NaN  0.758364   0.766917  0.750000   \n",
       "1           Consumer Discretionary NaN  0.711864   0.807692  0.636364   \n",
       "\n",
       "    support                model  \n",
       "6     150.0       SGD Classifier  \n",
       "12    114.0       SGD Classifier  \n",
       "11    144.0       SGD Classifier  \n",
       "3     143.0       SGD Classifier  \n",
       "2     119.0       SGD Classifier  \n",
       "4     118.0       SGD Classifier  \n",
       "10    118.0       SGD Classifier  \n",
       "5     143.0       SGD Classifier  \n",
       "8     120.0       SGD Classifier  \n",
       "9      52.0       SGD Classifier  \n",
       "1      66.0       SGD Classifier  \n",
       "0     136.0       SGD Classifier  \n",
       "7      77.0       SGD Classifier  \n",
       "6     150.0        Random Forest  \n",
       "5     143.0        Random Forest  \n",
       "2     119.0        Random Forest  \n",
       "10    118.0        Random Forest  \n",
       "8     120.0        Random Forest  \n",
       "12    114.0        Random Forest  \n",
       "4     118.0        Random Forest  \n",
       "11    144.0        Random Forest  \n",
       "3     143.0        Random Forest  \n",
       "0     136.0        Random Forest  \n",
       "7      77.0        Random Forest  \n",
       "9      52.0        Random Forest  \n",
       "1      66.0        Random Forest  \n",
       "6     150.0  Logistic Regression  \n",
       "12    114.0  Logistic Regression  \n",
       "2     119.0  Logistic Regression  \n",
       "4     118.0  Logistic Regression  \n",
       "10    118.0  Logistic Regression  \n",
       "5     143.0  Logistic Regression  \n",
       "3     143.0  Logistic Regression  \n",
       "9      52.0  Logistic Regression  \n",
       "7      77.0  Logistic Regression  \n",
       "8     120.0  Logistic Regression  \n",
       "11    144.0  Logistic Regression  \n",
       "0     136.0  Logistic Regression  \n",
       "1      66.0  Logistic Regression  "
      ]
     },
     "execution_count": 88,
     "metadata": {},
     "output_type": "execute_result"
    }
   ],
   "source": [
    "dbert_df = pd.concat(bert_report_list)\n",
    "dbert_df.sort_values(by=['model','f1-score'], ascending=False)"
   ]
  },
  {
   "cell_type": "markdown",
   "metadata": {},
   "source": [
    "# DistilBERT Results\n",
    "Logistic regression with DistilBERT far outperforms the same model with TF-IDF\n",
    "\n",
    "Unlike the TF-IDF vectorization, we see the top performing categories are \n",
    "1. Healthcare\n",
    "2. Transportation & Logistics\n",
    "3. Consumer Staples\n",
    "\n",
    "The accuracy does drop for remaining classes but even the worst performing category (Consumer Discretionary) but\n",
    "even with 66 examples, it far outperforms any of the TF-IDF models. \n",
    "\n",
    "DistilBERT captures the context and not just word frequency, but we can absolutely improve with other features.\n",
    "\n",
    "Next steps:\n",
    "1. Increase datasize (but need more memory to process)\n",
    "2. Test out different models and hyperparameter tuning\n",
    "3. Try category specific models (e.g. one model for healthcare, one model for IT)\n",
    "4. Return to text normalization and see if any important information was accidentally removed. \n",
    "    - Remove contact information & addresses"
   ]
  },
  {
   "cell_type": "markdown",
   "metadata": {},
   "source": [
    "# Model Winner\n",
    "\n",
    "Logistic Regression (ovr) with DistilBERT \n",
    "\n",
    "The best performining model is use case-, data-, and application-specific. You have to balance the model's performance against how and where it will be deployed. \n",
    "\n",
    "In order to ship this application, I need to share the precomputed distilbert embeddings OR I need to use the TF-IDF so the model can be tested.  I will not use BERT embeddings in the application because of the time constraint \n",
    "to compute. \n",
    "\n",
    "Criteria used to select model:\n",
    "1. Accuracy: the global behavior of the model across all category predictions\n",
    "2. Confusion Matrix:\n",
    "    - Precision \n",
    "    - Recall\n",
    "    - F1"
   ]
  },
  {
   "cell_type": "code",
   "execution_count": 104,
   "metadata": {},
   "outputs": [
    {
     "name": "stdout",
     "output_type": "stream",
     "text": [
      "\n",
      "=== Logistic Regression ===\n"
     ]
    }
   ],
   "source": [
    "import pickle \n",
    "# Define the classification models to be tested\n",
    "models = {\n",
    "    'Logistic Regression': LogisticRegression(multi_class='ovr', max_iter=1000)\n",
    "}\n",
    "# Iterate over models using the precomputed BERT embeddings\n",
    "for model_name, model in models.items():\n",
    "    if isinstance(model, MultinomialNB): # MultinomialNB requires non-negative input values but embeddings can include negative values\n",
    "        print(f\"Skipping {model_name} as it is not compatible with BERT embeddings.\")\n",
    "        continue\n",
    "    \n",
    "    print(f\"\\n=== {model_name} ===\")\n",
    "    \n",
    "    # Train the model using precomputed BERT embeddings\n",
    "    model.fit(X_train_embeddings2, y_train)\n",
    "    y_pred_bert = model.predict(X_test_embeddings2)\n",
    "\n",
    "    # Save the model\n",
    "    with open('logistic_dbert_model.pkl', 'wb') as model_file:\n",
    "        pickle.dump(model, model_file)\n",
    "\n",
    "    # To load the model later\n",
    "    with open('logistic_dbert_model.pkl', 'rb') as model_file:\n",
    "        loaded_model = pickle.load(model_file)"
   ]
  },
  {
   "cell_type": "code",
   "execution_count": 133,
   "metadata": {},
   "outputs": [
    {
     "name": "stdout",
     "output_type": "stream",
     "text": [
      "Corporate Services\n",
      "weight loss high intensity bodybuilding fitness strength training trainers care trainers take fitness goals seriously understand losing weight gaining muscle challenging goal overcome hurdles reach goals analyze body type bmi metabolism create individualized fitness plan founded larry reynolds built first gym basement church troy york years old moved phoenix arizona age work `` real health club soon became head trainer gym swim east gym swim west year later started glendale arizona longest running bodybuilding gym westside barbell club enjoyed fantastic -year run soon started arizona successful personal training business peak trainers well clients thousands success stories `` making arizona years larry semi retired passed reins lrpt mike fox longtime assistant general manager mike continuing larry reynolds legacy helping dozens clients reach health fitness goals larry still trains private clients three afternoons week plans fully retiring anytime soon success goal understand adapting fitness habits difficult often fails goal change fitness becomes part lifestyle strongly believe practice healthy habits able obtain healthy lifestyle fox stomach vacuum video testimonials check great video photo gallery send message name email phone send site protected recaptcha google privacy policy terms apply larry reynolds personal training n. th st bldg b- phoenix az hours appointment monday friday pm saturday p sunday closed copyright © larry reynolds personal training rights reserved powered godaddy gocentral website builder weight loss high intensity bodybuilding fitness strength training video testimonials fox stomach vacuum photo gallery\n",
      "Materials\n",
      "menu departments locations hours langford victoria – admirals rd saanichton sidney duncan nanaimo tofino cumberland comox slegg door shop news events event gallery island builder careers delivery design sign email offers access great deals join © slegg building materials rights reserved division wsb titan group companies delivery design departments locations hours langford victoria – admirals rd saanichton sidney duncan nanaimo tofino cumberland comox slegg door shop news events event gallery island builder careers welcome slegg building materials whether contractor working large-scale project diy weekend warrior got covered\n",
      "Corporate Services\n",
      "skip content candidates clients work hello imperiumfr.com candidates clients work perspective next career move imperium name professional recruitment imperium means command take control whether client candidate would like specialist recruitment search selection agency extensive experience accountancy public practice commerce industry insolvency financial sectors genuine passion recruitment sets aside competitors treat every client candidate uniquely tailor make solution fit requirements vision drive ensure clients customers given levels expectations exceeded every occasion see clients leanne far one recruiters ever worked focused hardworking really gets skin candidates looking move jobs takes lot time ascertaining clients looking employee nikki recruitment manager made redundant last year many dealings recruitment consultants short space time however leanne approach different rest found polite personable great listener – something many competitors poor within days leanne already lining relevant positions proved ability hone suitable job opportunities based discussed ease also thorough approach preparing interviews without hesitation recommending leanne excellent recruitment consultant andrew b bdm worked russell several recruitment assignments assisted appointing insolvency practitioners russell displayed professionalism high level expertise field assignment well tenaciousness given challenging nature project top qualities personable expertise high integrity susan h. group hr director leading financial business leanne consistently provided quality recruitment always demonstrating good understanding specialist role recruiting strong awareness current market conditions would happily confidently recommend leanne recruitment specialist financial helen e hr manager known russell several years recruitment need simply want know inevitably first port first-rate knowledge insolvency marketplace special requirements job great bloke top qualities great results expertise high integrity ian m. insolvency practitioner leading firm debt solutions provider leanne knowledgeable helpful committed recruiter really enjoyed working always professional able find common ground order put stamp working relationship commitment finding right candidates exceptional even dealing reach vacancies would hesitate recommending leanne employer clare senior hr advisor pleasure meeting leanne mostly value positive energy friendly approach aspire trustworthiness attention detail shown every step job research could thank leanne professional commitment assistance beneficial career development uk sincerely grateful nicolina p marketing manager russell actively helped find opportunities find people work beneficial business russell thinks beyond merely acting recruitment consultant top qualities personable good value high integrity greg m. managing director financial business leanne highly professional proactive trying find correct roles clients detailed knowledge within financial industry knows match needs parties adrian senior financial planner used russell number occasions always found listen needs find candidate bests fit team would hesitation recommending russell find next employee top qualities personable expertise high integrity david b. partner well-known firm chartered accountants job listings recruitment consultant altrincham £k-k per annum imperium financial recruitment exciting fairly financial recruitment business run team professionals years combined industry experience accountancy finance sectors ambitious plans expand offering based altrincham cheshire exciting opportunity recruit financial corporate recovery insolvency practitioner manchester £-£ exciting opportunity arisen within rapidly expanding leading insolvency business due major drive within marketplace client seeks appoint successful driven insolvency practitioner work within management structure business gained exposure areas insolvency comfortable marketing corporate recovery senior manchester £- client top ten firm chartered accountants one northwest leading recovery businesses seeking corporate recovery senior join insolvency/recovery department working managers aim progressing cases timely cost-efficient manner correspond creditors stakeholders produce draft documents audit manager manchester £-£ position arisen within top firm chartered accountants audit manager achieving circa year post-qualified experience ideal opportunity take experience next level work closely clients understand business look beyond requirements audit compliance tax senior manchester £-£ excellent opportunity individual specialise personal corporate mixed tax role arisen manchester providing career progression long term development opportunity develop skills firm growing highly regarded firm chartered accountants partners senior managers team searching key business development manager manchester £-£ business development manager manchester £, £, client leading corporate recovery insolvency business based manchester continued growth require individual experience corporate insolvency spearhead drive corporate insolvency sector working within pre-existing framework role holder able corporate tax senior manchester £- chartered accountants seek employ tax associate focus core tax assurance delivery play crucial role delivering high quality consistent clients expect develop deep knowledge understanding clients ensure stability continuity maintained corporate recovery senior manchester £-£ one uk growing corporate recovery specialists currently seeking bolster existing corporate team addition corporate insolvency administrator newly refurbished offices lancashire excellent opportunity exists candidate prior experience corporate insolvency responsible dealing audit manager manchester £-£ top firm chartered accountants highly enviable reputation wish recruit qualified audit manager work busy manchester offices ideal candidate excellent track record within audit presently either assistant manager looking next step full management accounts semi senior manchester £-£ one largest firms cheshire seeking recruit acca/aca part qualified semi senior work within audit accounts function ideal candidate years experience gained within small medium sized firm chartered accountants role offers full study package along audit senior manchester £-£ strong regional firm chartered accountants require accounts/audit senior work involve preparation audit statutory accounts wide variety businesses primarily corporate including charities pension schemes solicitors role also include preparation management year-end accounts partnerships un-incorporated businesses well corporate recovery administrator manchester £-£ local firm corporate recovery specialists currently seeking bolster existing corporate team addition corporate insolvency administrator established offices south manchester excellent opportunity exists candidate prior experience corporate insolvency responsible dealing aspects corporate recovery administrator liverpool £-£ top firm corporate recovery specialists currently seeking bolster existing corporate team addition corporate insolvency administrator newly established offices manchester excellent opportunity exists candidate prior experience corporate insolvency responsible dealing aspects corporate recovery assistant manager liverpool £-£ well established firm corporate recovery specialists currently seeking bolster existing corporate team addition corporate insolvency assistant manager newly refurbished offices manchester excellent opportunity exists candidate prior experience corporate insolvency responsible dealing corporate recovery administrator liverpool £-£ one uk growing corporate recovery specialists currently seeking bolster existing corporate team addition corporate insolvency administrator newly refurbished offices manchester excellent opportunity exists candidate prior experience corporate insolvency responsible dealing bookkeeper south manchester permanent £k £k pro rata plus excellent benefits imperium financial recruitment currently looking full time bookkeeper assist firm chartered accountants south manchester duties include preparation submission vat returns ensuring hmrc filing deadlines met reconciliation bank accounts maintaining customer supplier accounts preparation nominal account reconciliations month end journal entries going corporate recovery senior manchester permanent £k £k client top ten firm chartered accountants one northwest leading recovery businesses seeking corporate recovery senior join insolvency/recovery department working managers aim progressing cases timely cost efficient manner correspond creditors stakeholders produce draft corporate recovery senior manchester £k £k specialist firm insolvency practitioners seek employ dynamic forward-thinking individual join team.the role incredibly flexible terms hours salary offers sound career prospects.the right candidate least years insolvency experience corporate insolvency dedicated career field.this business development manager-insolvency manchester permanent £k £k client leading corporate recovery insolvency business based manchester continued growth require individual experience corporate insolvency spearhead drive corporate insolvency sector working within pre-existing framework role holder able develop business presence corporate recovery senior manchester £k £k pro rata plus excellent benefits specialist firm insolvency practitioners seek employ dynamic forward-thinking individual join team.the role incredibly flexible terms hours salary offers sound career prospects.the right candidate least years insolvency experience corporate insolvency dedicated career field.this part time corporate insolvency administrator stockport part time £k £k pro rata plus excellent benefits one uk growing corporate recovery specialists currently seeking bolster existing corporate team addition corporate insolvency administrator newly refurbished offices north manchester excellent opportunity exists candidate prior experience corporate insolvency responsible dealing corporate insolvency administrator manchester permanent £k £k plus excellent benefits one uk growing corporate recovery specialists currently seeking bolster existing corporate team addition corporate insolvency administrator newly refurbished offices north manchester excellent opportunity exists candidate prior experience corporate insolvency responsible dealing corporate finance manager – firm chartered accountants manchester fulltime permanent £, £, plus benefits top firm chartered accountants seek employ corporate finance manager audit manager – firm chartered accountants manchester fulltime permanent £, £, plus benefits position arisen within top firm chartered accountants audit manager charter buildings ashton lane sale wt privacy policy website design search use cookies ensure give experience website continue use site assume happy accept privacy policy perspective next career move job listings imperium name professional recruitment see clients hello imperiumfr.com candidates clients work hello imperiumfr.com imperium name professional recruitment imperium means command take control whether client candidate would like\n"
     ]
    }
   ],
   "source": [
    "# select cases not in our sample of 5000 cases\n",
    "df_test = df_clean[~df_clean.index.isin(df_sample.index)].sample(n=3)\n",
    "df_test['Category_encoded'] = label_encoder.fit_transform(df_test['Category'])\n",
    "for i in range(len(df_test)):\n",
    "    print(df_test['Category'].iloc[i])\n",
    "    print(df_test['clean_text_str'].iloc[i])\n"
   ]
  },
  {
   "cell_type": "code",
   "execution_count": 134,
   "metadata": {},
   "outputs": [
    {
     "name": "stdout",
     "output_type": "stream",
     "text": [
      "40475    Corporate Services\n",
      "35561             Materials\n",
      "12376    Corporate Services\n",
      "Name: Category, dtype: object\n",
      "40475    0\n",
      "35561    1\n",
      "12376    0\n",
      "Name: Category_encoded, dtype: int32\n"
     ]
    }
   ],
   "source": [
    "# Example training data (text)\n",
    "new_X = df_test['clean_text_str']\n",
    "new_y_train = df_test['Category_encoded']\n",
    "print(df_test['Category'])\n",
    "print(df_test['Category_encoded'])\n",
    "\n",
    "new_embeddings = bert_transformer.transform(new_X)"
   ]
  },
  {
   "cell_type": "code",
   "execution_count": 135,
   "metadata": {},
   "outputs": [],
   "source": [
    "# Make predictions\n",
    " # To load the model later\n",
    "with open('logistic_dbert_model.pkl', 'rb') as model_file:\n",
    "    loaded_model = pickle.load(model_file)\n",
    "    \n",
    "predictions = loaded_model.predict(new_embeddings)"
   ]
  },
  {
   "cell_type": "code",
   "execution_count": 136,
   "metadata": {},
   "outputs": [
    {
     "name": "stdout",
     "output_type": "stream",
     "text": [
      "Predicted classes for the new data: [3 0 3]\n"
     ]
    }
   ],
   "source": [
    "# Output the predictions\n",
    "print(f\"Predicted classes for the new data: {predictions}\")"
   ]
  }
 ],
 "metadata": {
  "kernelspec": {
   "display_name": "base",
   "language": "python",
   "name": "python3"
  },
  "language_info": {
   "codemirror_mode": {
    "name": "ipython",
    "version": 3
   },
   "file_extension": ".py",
   "mimetype": "text/x-python",
   "name": "python",
   "nbconvert_exporter": "python",
   "pygments_lexer": "ipython3",
   "version": "3.8.8"
  }
 },
 "nbformat": 4,
 "nbformat_minor": 2
}
