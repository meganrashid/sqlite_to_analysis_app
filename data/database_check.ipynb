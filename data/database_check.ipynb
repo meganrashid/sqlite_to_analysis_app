{
 "cells": [
  {
   "cell_type": "markdown",
   "metadata": {},
   "source": [
    "# SQLite Database Exploration\n",
    "\n",
    "This application takes a SQLite database and outputs results to markdown report. \n",
    "\n",
    "Steps:\n",
    "This notebook inspects the database to identify tables, data structure and optimize through indexing. "
   ]
  },
  {
   "cell_type": "code",
   "execution_count": 46,
   "metadata": {},
   "outputs": [],
   "source": [
    "import pandas as pd\n",
    "import sys\n",
    "import os\n",
    "\n",
    "# Add the path to utils/ directory, which is one level up from the /data directory\n",
    "sys.path.append(os.path.abspath(os.path.join('..', 'utils')))\n",
    "\n",
    "# Now you can import the db_utils module\n",
    "import db_utils as db\n"
   ]
  },
  {
   "cell_type": "code",
   "execution_count": 25,
   "metadata": {},
   "outputs": [],
   "source": [
    "db_path = \"C:/Users/megan/OneDrive/Documents/GitHub/sqlite_to_analysis_app/data/combined_data.db\"\n",
    "conn = db.connect_to_db(db_path)"
   ]
  },
  {
   "cell_type": "code",
   "execution_count": 26,
   "metadata": {},
   "outputs": [
    {
     "data": {
      "text/plain": [
       "[('CompanyClassification',), ('CompanyDataset',)]"
      ]
     },
     "execution_count": 26,
     "metadata": {},
     "output_type": "execute_result"
    }
   ],
   "source": [
    "# identify names of tables in the database\n",
    "db.run_query(conn,\"SELECT name FROM sqlite_master WHERE type='table'\")"
   ]
  },
  {
   "cell_type": "code",
   "execution_count": 28,
   "metadata": {},
   "outputs": [
    {
     "name": "stdout",
     "output_type": "stream",
     "text": [
      "[]\n",
      "[]\n"
     ]
    }
   ],
   "source": [
    "# identify if database is optimized with indexes for CompanyDataset\n",
    "print(db.run_query(conn,\"SELECT * FROM sqlite_master WHERE type='index' and name='CompanyDataset'\"))\n",
    "\n",
    "# identify if database is optimized with indexes for CompanyClassification\n",
    "print(db.run_query(conn,\"SELECT * FROM sqlite_master WHERE type='index' and name='CompanyClassification'\"))"
   ]
  },
  {
   "cell_type": "code",
   "execution_count": 38,
   "metadata": {},
   "outputs": [],
   "source": [
    "import time\n",
    "# # time queries to get a sense of performance\n",
    "def time_query(conn, query):\n",
    "    \"\"\"Time the execution of a query on the SQLite database.\"\"\"\n",
    "    cursor = conn.cursor()\n",
    "    start_time = time.time()  # Record the start time\n",
    "    cursor.execute(query)\n",
    "    result = cursor.fetchall()\n",
    "    end_time = time.time()  # Record the end time\n",
    "    \n",
    "    execution_time = end_time - start_time\n",
    "    \n",
    "    return execution_time, result"
   ]
  },
  {
   "cell_type": "code",
   "execution_count": 39,
   "metadata": {},
   "outputs": [
    {
     "ename": "TypeError",
     "evalue": "expected str, bytes or os.PathLike object, not sqlite3.Connection",
     "output_type": "error",
     "traceback": [
      "\u001b[1;31m---------------------------------------------------------------------------\u001b[0m",
      "\u001b[1;31mTypeError\u001b[0m                                 Traceback (most recent call last)",
      "\u001b[1;32m<ipython-input-39-333cd3084f99>\u001b[0m in \u001b[0;36m<module>\u001b[1;34m\u001b[0m\n\u001b[1;32m----> 1\u001b[1;33m \u001b[0mprint\u001b[0m\u001b[1;33m(\u001b[0m\u001b[0mdb\u001b[0m\u001b[1;33m.\u001b[0m\u001b[0mtime_query\u001b[0m\u001b[1;33m(\u001b[0m\u001b[0mconn\u001b[0m\u001b[1;33m,\u001b[0m \u001b[1;34m\"SELECT count(*) FROM CompanyDataset\"\u001b[0m\u001b[1;33m)\u001b[0m\u001b[1;33m)\u001b[0m\u001b[1;33m\u001b[0m\u001b[1;33m\u001b[0m\u001b[0m\n\u001b[0m\u001b[0;32m      2\u001b[0m \u001b[0mprint\u001b[0m\u001b[1;33m(\u001b[0m\u001b[0mdb\u001b[0m\u001b[1;33m.\u001b[0m\u001b[0mtime_query\u001b[0m\u001b[1;33m(\u001b[0m\u001b[0mconn\u001b[0m\u001b[1;33m,\u001b[0m \u001b[1;34m\"SELECT count(*) FROM CompanyClassification\"\u001b[0m\u001b[1;33m)\u001b[0m\u001b[1;33m)\u001b[0m\u001b[1;33m\u001b[0m\u001b[1;33m\u001b[0m\u001b[0m\n",
      "\u001b[1;32mc:\\Users\\megan\\OneDrive\\Documents\\GitHub\\sqlite_to_analysis_app\\utils\\db_utils.py\u001b[0m in \u001b[0;36mtime_query\u001b[1;34m(db_path, query)\u001b[0m\n\u001b[0;32m     15\u001b[0m \u001b[1;32mdef\u001b[0m \u001b[0mtime_query\u001b[0m\u001b[1;33m(\u001b[0m\u001b[0mconn\u001b[0m\u001b[1;33m,\u001b[0m \u001b[0mquery\u001b[0m\u001b[1;33m)\u001b[0m\u001b[1;33m:\u001b[0m\u001b[1;33m\u001b[0m\u001b[1;33m\u001b[0m\u001b[0m\n\u001b[0;32m     16\u001b[0m     \u001b[1;34m\"\"\"Time the execution of a query on the SQLite database.\"\"\"\u001b[0m\u001b[1;33m\u001b[0m\u001b[1;33m\u001b[0m\u001b[0m\n\u001b[1;32m---> 17\u001b[1;33m     \u001b[0mcursor\u001b[0m \u001b[1;33m=\u001b[0m \u001b[0mconn\u001b[0m\u001b[1;33m.\u001b[0m\u001b[0mcursor\u001b[0m\u001b[1;33m(\u001b[0m\u001b[1;33m)\u001b[0m\u001b[1;33m\u001b[0m\u001b[1;33m\u001b[0m\u001b[0m\n\u001b[0m\u001b[0;32m     18\u001b[0m     \u001b[0mstart_time\u001b[0m \u001b[1;33m=\u001b[0m \u001b[0mtime\u001b[0m\u001b[1;33m.\u001b[0m\u001b[0mtime\u001b[0m\u001b[1;33m(\u001b[0m\u001b[1;33m)\u001b[0m  \u001b[1;31m# Record the start time\u001b[0m\u001b[1;33m\u001b[0m\u001b[1;33m\u001b[0m\u001b[0m\n\u001b[0;32m     19\u001b[0m     \u001b[0mcursor\u001b[0m\u001b[1;33m.\u001b[0m\u001b[0mexecute\u001b[0m\u001b[1;33m(\u001b[0m\u001b[0mquery\u001b[0m\u001b[1;33m)\u001b[0m\u001b[1;33m\u001b[0m\u001b[1;33m\u001b[0m\u001b[0m\n",
      "\u001b[1;31mTypeError\u001b[0m: expected str, bytes or os.PathLike object, not sqlite3.Connection"
     ]
    }
   ],
   "source": [
    "print(time_query(conn, \"SELECT count(*) FROM CompanyDataset\"))\n",
    "print(time_query(conn, \"SELECT count(*) FROM CompanyClassification\"))"
   ]
  },
  {
   "cell_type": "code",
   "execution_count": 20,
   "metadata": {},
   "outputs": [],
   "source": [
    "# check the table names in the database file\n",
    "df = pd.read_sql_query(\"SELECT * FROM sqlite_master WHERE type = 'table'\", conn)\n",
    "\n",
    "# Verify that result of SQL query is stored in the dataframe\n",
    "print(df.head())"
   ]
  },
  {
   "cell_type": "code",
   "execution_count": 43,
   "metadata": {},
   "outputs": [],
   "source": [
    "# read tables \n",
    "company_dataset = pd.read_sql_query(\"SELECT * FROM CompanyDataset\",conn)\n",
    "company_classification = pd.read_sql_query(\"SELECT * FROM CompanyClassification\",conn)"
   ]
  },
  {
   "cell_type": "code",
   "execution_count": 44,
   "metadata": {},
   "outputs": [
    {
     "name": "stdout",
     "output_type": "stream",
     "text": [
      "Index(['Unnamed: 0', 'CompanyName', 'Website', 'year founded', 'industry',\n",
      "       'size range', 'locality', 'country', 'linkedin url',\n",
      "       'current employee estimate', 'total employee estimate'],\n",
      "      dtype='object')\n"
     ]
    },
    {
     "data": {
      "text/html": [
       "<div>\n",
       "<style scoped>\n",
       "    .dataframe tbody tr th:only-of-type {\n",
       "        vertical-align: middle;\n",
       "    }\n",
       "\n",
       "    .dataframe tbody tr th {\n",
       "        vertical-align: top;\n",
       "    }\n",
       "\n",
       "    .dataframe thead th {\n",
       "        text-align: right;\n",
       "    }\n",
       "</style>\n",
       "<table border=\"1\" class=\"dataframe\">\n",
       "  <thead>\n",
       "    <tr style=\"text-align: right;\">\n",
       "      <th></th>\n",
       "      <th>Unnamed: 0</th>\n",
       "      <th>CompanyName</th>\n",
       "      <th>Website</th>\n",
       "      <th>year founded</th>\n",
       "      <th>industry</th>\n",
       "      <th>size range</th>\n",
       "      <th>locality</th>\n",
       "      <th>country</th>\n",
       "      <th>linkedin url</th>\n",
       "      <th>current employee estimate</th>\n",
       "      <th>total employee estimate</th>\n",
       "    </tr>\n",
       "  </thead>\n",
       "  <tbody>\n",
       "    <tr>\n",
       "      <th>0</th>\n",
       "      <td>5872184</td>\n",
       "      <td>ibm</td>\n",
       "      <td>ibm.com</td>\n",
       "      <td>1911.0</td>\n",
       "      <td>information technology and services</td>\n",
       "      <td>10001+</td>\n",
       "      <td>new york, new york, united states</td>\n",
       "      <td>united states</td>\n",
       "      <td>linkedin.com/company/ibm</td>\n",
       "      <td>274047</td>\n",
       "      <td>716906</td>\n",
       "    </tr>\n",
       "    <tr>\n",
       "      <th>1</th>\n",
       "      <td>4425416</td>\n",
       "      <td>tata consultancy services</td>\n",
       "      <td>tcs.com</td>\n",
       "      <td>1968.0</td>\n",
       "      <td>information technology and services</td>\n",
       "      <td>10001+</td>\n",
       "      <td>bombay, maharashtra, india</td>\n",
       "      <td>india</td>\n",
       "      <td>linkedin.com/company/tata-consultancy-services</td>\n",
       "      <td>190771</td>\n",
       "      <td>341369</td>\n",
       "    </tr>\n",
       "    <tr>\n",
       "      <th>2</th>\n",
       "      <td>21074</td>\n",
       "      <td>accenture</td>\n",
       "      <td>accenture.com</td>\n",
       "      <td>1989.0</td>\n",
       "      <td>information technology and services</td>\n",
       "      <td>10001+</td>\n",
       "      <td>dublin, dublin, ireland</td>\n",
       "      <td>ireland</td>\n",
       "      <td>linkedin.com/company/accenture</td>\n",
       "      <td>190689</td>\n",
       "      <td>455768</td>\n",
       "    </tr>\n",
       "    <tr>\n",
       "      <th>3</th>\n",
       "      <td>2309813</td>\n",
       "      <td>us army</td>\n",
       "      <td>goarmy.com</td>\n",
       "      <td>1800.0</td>\n",
       "      <td>military</td>\n",
       "      <td>10001+</td>\n",
       "      <td>alexandria, virginia, united states</td>\n",
       "      <td>united states</td>\n",
       "      <td>linkedin.com/company/us-army</td>\n",
       "      <td>162163</td>\n",
       "      <td>445958</td>\n",
       "    </tr>\n",
       "    <tr>\n",
       "      <th>4</th>\n",
       "      <td>1558607</td>\n",
       "      <td>ey</td>\n",
       "      <td>ey.com</td>\n",
       "      <td>1989.0</td>\n",
       "      <td>accounting</td>\n",
       "      <td>10001+</td>\n",
       "      <td>london, greater london, united kingdom</td>\n",
       "      <td>united kingdom</td>\n",
       "      <td>linkedin.com/company/ernstandyoung</td>\n",
       "      <td>158363</td>\n",
       "      <td>428960</td>\n",
       "    </tr>\n",
       "  </tbody>\n",
       "</table>\n",
       "</div>"
      ],
      "text/plain": [
       "   Unnamed: 0                CompanyName        Website  year founded  \\\n",
       "0     5872184                        ibm        ibm.com        1911.0   \n",
       "1     4425416  tata consultancy services        tcs.com        1968.0   \n",
       "2       21074                  accenture  accenture.com        1989.0   \n",
       "3     2309813                    us army     goarmy.com        1800.0   \n",
       "4     1558607                         ey         ey.com        1989.0   \n",
       "\n",
       "                              industry size range  \\\n",
       "0  information technology and services     10001+   \n",
       "1  information technology and services     10001+   \n",
       "2  information technology and services     10001+   \n",
       "3                             military     10001+   \n",
       "4                           accounting     10001+   \n",
       "\n",
       "                                 locality         country  \\\n",
       "0       new york, new york, united states   united states   \n",
       "1              bombay, maharashtra, india           india   \n",
       "2                 dublin, dublin, ireland         ireland   \n",
       "3     alexandria, virginia, united states   united states   \n",
       "4  london, greater london, united kingdom  united kingdom   \n",
       "\n",
       "                                     linkedin url  current employee estimate  \\\n",
       "0                        linkedin.com/company/ibm                     274047   \n",
       "1  linkedin.com/company/tata-consultancy-services                     190771   \n",
       "2                  linkedin.com/company/accenture                     190689   \n",
       "3                    linkedin.com/company/us-army                     162163   \n",
       "4              linkedin.com/company/ernstandyoung                     158363   \n",
       "\n",
       "   total employee estimate  \n",
       "0                   716906  \n",
       "1                   341369  \n",
       "2                   455768  \n",
       "3                   445958  \n",
       "4                   428960  "
      ]
     },
     "execution_count": 44,
     "metadata": {},
     "output_type": "execute_result"
    }
   ],
   "source": [
    "print(company_dataset.columns)\n",
    "company_dataset.head()"
   ]
  },
  {
   "cell_type": "code",
   "execution_count": 45,
   "metadata": {},
   "outputs": [
    {
     "name": "stdout",
     "output_type": "stream",
     "text": [
      "Index(['Category', 'Website', 'CompanyName', 'homepage_text', 'h1', 'h2', 'h3',\n",
      "       'nav_link_text', 'meta_keywords', 'meta_description'],\n",
      "      dtype='object')\n"
     ]
    },
    {
     "data": {
      "text/html": [
       "<div>\n",
       "<style scoped>\n",
       "    .dataframe tbody tr th:only-of-type {\n",
       "        vertical-align: middle;\n",
       "    }\n",
       "\n",
       "    .dataframe tbody tr th {\n",
       "        vertical-align: top;\n",
       "    }\n",
       "\n",
       "    .dataframe thead th {\n",
       "        text-align: right;\n",
       "    }\n",
       "</style>\n",
       "<table border=\"1\" class=\"dataframe\">\n",
       "  <thead>\n",
       "    <tr style=\"text-align: right;\">\n",
       "      <th></th>\n",
       "      <th>Category</th>\n",
       "      <th>Website</th>\n",
       "      <th>CompanyName</th>\n",
       "      <th>homepage_text</th>\n",
       "      <th>h1</th>\n",
       "      <th>h2</th>\n",
       "      <th>h3</th>\n",
       "      <th>nav_link_text</th>\n",
       "      <th>meta_keywords</th>\n",
       "      <th>meta_description</th>\n",
       "    </tr>\n",
       "  </thead>\n",
       "  <tbody>\n",
       "    <tr>\n",
       "      <th>0</th>\n",
       "      <td>Commercial Services &amp; Supplies</td>\n",
       "      <td>bipelectric.com</td>\n",
       "      <td>bip dipietro electric inc</td>\n",
       "      <td>Electrici...</td>\n",
       "      <td>None</td>\n",
       "      <td>None</td>\n",
       "      <td>None</td>\n",
       "      <td>None</td>\n",
       "      <td>electricians vero beach, vero beach electrical...</td>\n",
       "      <td>Providing quality, reliable full service resid...</td>\n",
       "    </tr>\n",
       "    <tr>\n",
       "      <th>1</th>\n",
       "      <td>Healthcare</td>\n",
       "      <td>eliasmedical.com</td>\n",
       "      <td>elias medical</td>\n",
       "      <td>site map | en español    Elias Medical   h...</td>\n",
       "      <td>Offering Bakersfield family medical care from ...</td>\n",
       "      <td>Welcome to ELIAS MEDICAL#sep#Family Medical Pr...</td>\n",
       "      <td>Get To Know Elias Medical#sep#Family Medical P...</td>\n",
       "      <td>None</td>\n",
       "      <td>Elias Medical bakersfield ca family doctor med...</td>\n",
       "      <td>For the best value in Bakersfield skin care tr...</td>\n",
       "    </tr>\n",
       "    <tr>\n",
       "      <th>2</th>\n",
       "      <td>Commercial Services &amp; Supplies</td>\n",
       "      <td>koopsoverheaddoors.com</td>\n",
       "      <td>koops overhead doors</td>\n",
       "      <td>Home  About Us  Garage Door Repair &amp; Servi...</td>\n",
       "      <td>None</td>\n",
       "      <td>Customer Reviews#sep#Welcome to Koops Overhead...</td>\n",
       "      <td>None</td>\n",
       "      <td>None</td>\n",
       "      <td>Koops Overhead Doors, Albany Garage Doors, Tro...</td>\n",
       "      <td>Koops Overhead Doors specializes in the sales,...</td>\n",
       "    </tr>\n",
       "    <tr>\n",
       "      <th>3</th>\n",
       "      <td>Healthcare</td>\n",
       "      <td>midtowneyes.com</td>\n",
       "      <td>midtown eyecare</td>\n",
       "      <td>918-599-0202        Type Size...</td>\n",
       "      <td>None</td>\n",
       "      <td>Welcome to our practice!</td>\n",
       "      <td>None</td>\n",
       "      <td>None</td>\n",
       "      <td>None</td>\n",
       "      <td>We would like to welcome you to Midtown Eyecar...</td>\n",
       "    </tr>\n",
       "    <tr>\n",
       "      <th>4</th>\n",
       "      <td>Commercial Services &amp; Supplies</td>\n",
       "      <td>reprosecurity.co.uk</td>\n",
       "      <td>repro security ltd</td>\n",
       "      <td>Simply fill out our form below...</td>\n",
       "      <td>None</td>\n",
       "      <td>Welcome to REPRO SECURITY Ltd</td>\n",
       "      <td>None</td>\n",
       "      <td>None</td>\n",
       "      <td>None</td>\n",
       "      <td>Repro Security provide a range of tailor made ...</td>\n",
       "    </tr>\n",
       "  </tbody>\n",
       "</table>\n",
       "</div>"
      ],
      "text/plain": [
       "                         Category                 Website  \\\n",
       "0  Commercial Services & Supplies         bipelectric.com   \n",
       "1                      Healthcare        eliasmedical.com   \n",
       "2  Commercial Services & Supplies  koopsoverheaddoors.com   \n",
       "3                      Healthcare         midtowneyes.com   \n",
       "4  Commercial Services & Supplies     reprosecurity.co.uk   \n",
       "\n",
       "                 CompanyName  \\\n",
       "0  bip dipietro electric inc   \n",
       "1              elias medical   \n",
       "2       koops overhead doors   \n",
       "3            midtown eyecare   \n",
       "4         repro security ltd   \n",
       "\n",
       "                                       homepage_text  \\\n",
       "0                                       Electrici...   \n",
       "1      site map | en español    Elias Medical   h...   \n",
       "2      Home  About Us  Garage Door Repair & Servi...   \n",
       "3                   918-599-0202        Type Size...   \n",
       "4                  Simply fill out our form below...   \n",
       "\n",
       "                                                  h1  \\\n",
       "0                                               None   \n",
       "1  Offering Bakersfield family medical care from ...   \n",
       "2                                               None   \n",
       "3                                               None   \n",
       "4                                               None   \n",
       "\n",
       "                                                  h2  \\\n",
       "0                                               None   \n",
       "1  Welcome to ELIAS MEDICAL#sep#Family Medical Pr...   \n",
       "2  Customer Reviews#sep#Welcome to Koops Overhead...   \n",
       "3                           Welcome to our practice!   \n",
       "4                      Welcome to REPRO SECURITY Ltd   \n",
       "\n",
       "                                                  h3 nav_link_text  \\\n",
       "0                                               None          None   \n",
       "1  Get To Know Elias Medical#sep#Family Medical P...          None   \n",
       "2                                               None          None   \n",
       "3                                               None          None   \n",
       "4                                               None          None   \n",
       "\n",
       "                                       meta_keywords  \\\n",
       "0  electricians vero beach, vero beach electrical...   \n",
       "1  Elias Medical bakersfield ca family doctor med...   \n",
       "2  Koops Overhead Doors, Albany Garage Doors, Tro...   \n",
       "3                                               None   \n",
       "4                                               None   \n",
       "\n",
       "                                    meta_description  \n",
       "0  Providing quality, reliable full service resid...  \n",
       "1  For the best value in Bakersfield skin care tr...  \n",
       "2  Koops Overhead Doors specializes in the sales,...  \n",
       "3  We would like to welcome you to Midtown Eyecar...  \n",
       "4  Repro Security provide a range of tailor made ...  "
      ]
     },
     "execution_count": 45,
     "metadata": {},
     "output_type": "execute_result"
    }
   ],
   "source": [
    "print(company_classification.columns)\n",
    "company_classification.head()"
   ]
  },
  {
   "cell_type": "markdown",
   "metadata": {},
   "source": [
    "# Optimize tables by adding indexes\n",
    "\n",
    "Columns chosen for indexing based on what I expect to use for filtering, joining, sorting or aggregation. \n",
    "\n",
    "That is columns used in:\n",
    "- WHERE\n",
    "- JOIN\n",
    "- ORDER BY\n",
    "- GROUP BY\n",
    "\n",
    "There are no indexes set for either CompanyDataset or CompanyClassification. Also there is a column in the Company dataset that has no name. This should cause an error if it happens in future cases. In this case, the column appears to be some kind of company ID."
   ]
  },
  {
   "cell_type": "code",
   "execution_count": 47,
   "metadata": {},
   "outputs": [
    {
     "ename": "AttributeError",
     "evalue": "module 'db_utils' has no attribute 'check_for_unnamed_columns'",
     "output_type": "error",
     "traceback": [
      "\u001b[1;31m---------------------------------------------------------------------------\u001b[0m",
      "\u001b[1;31mAttributeError\u001b[0m                            Traceback (most recent call last)",
      "\u001b[1;32m<ipython-input-47-0505d4062d02>\u001b[0m in \u001b[0;36m<module>\u001b[1;34m\u001b[0m\n\u001b[1;32m----> 1\u001b[1;33m \u001b[0mdb\u001b[0m\u001b[1;33m.\u001b[0m\u001b[0mcheck_for_unnamed_columns\u001b[0m\u001b[1;33m(\u001b[0m\u001b[0mconn\u001b[0m\u001b[1;33m,\u001b[0m \u001b[1;34m'CompanyDataset'\u001b[0m\u001b[1;33m)\u001b[0m\u001b[1;33m\u001b[0m\u001b[1;33m\u001b[0m\u001b[0m\n\u001b[0m",
      "\u001b[1;31mAttributeError\u001b[0m: module 'db_utils' has no attribute 'check_for_unnamed_columns'"
     ]
    }
   ],
   "source": [
    "db.check_for_unnamed_columns(conn, 'CompanyDataset')"
   ]
  },
  {
   "cell_type": "code",
   "execution_count": null,
   "metadata": {},
   "outputs": [],
   "source": []
  }
 ],
 "metadata": {
  "kernelspec": {
   "display_name": "base",
   "language": "python",
   "name": "python3"
  },
  "language_info": {
   "codemirror_mode": {
    "name": "ipython",
    "version": 3
   },
   "file_extension": ".py",
   "mimetype": "text/x-python",
   "name": "python",
   "nbconvert_exporter": "python",
   "pygments_lexer": "ipython3",
   "version": "3.8.8"
  }
 },
 "nbformat": 4,
 "nbformat_minor": 2
}
